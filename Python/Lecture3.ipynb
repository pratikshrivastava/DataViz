{
 "cells": [
  {
   "cell_type": "code",
   "execution_count": 80,
   "metadata": {
    "collapsed": true
   },
   "outputs": [],
   "source": [
    "%matplotlib inline"
   ]
  },
  {
   "cell_type": "code",
   "execution_count": 81,
   "metadata": {
    "collapsed": true
   },
   "outputs": [],
   "source": [
    "import numpy as np\n",
    "import matplotlib.pyplot as plt\n",
    "import csv\n",
    "f = open(\"data-readonly/IL_Building_Inventory.csv\")\n",
    "reader = csv.reader(f)\n",
    "header = next(reader)\n",
    "data = {}\n",
    "for column in header:\n",
    "    data[column] = []\n",
    "for record in reader:\n",
    "    for name, value in zip(header, record):\n",
    "        data[name].append(value)\n",
    "\n",
    "data[\"Square Footage\"] = np.array(data['Square Footage'], dtype=\"float\")\n",
    "data[\"Year Constructed\"] = np.array(data[\"Year Constructed\"], dtype='int')\n",
    "data[\"Year Acquired\"] = np.array(data[\"Year Acquired\"], dtype='int')"
   ]
  },
  {
   "cell_type": "code",
   "execution_count": null,
   "metadata": {
    "collapsed": true
   },
   "outputs": [],
   "source": [
    "data."
   ]
  },
  {
   "cell_type": "code",
   "execution_count": 79,
   "metadata": {},
   "outputs": [
    {
     "data": {
      "text/plain": [
       "['Anderson Lake C.a.',\n",
       " 'Anderson Lake C.a.',\n",
       " 'Anderson Lake C.a.',\n",
       " 'Anderson Lake C.a.',\n",
       " 'Anderson Lake C.a.',\n",
       " 'Anderson Lake C.a.',\n",
       " 'Rr #2',\n",
       " 'Rr #2',\n",
       " 'R. R. 178, Box 509',\n",
       " 'R. R. 178, Box 509',\n",
       " 'R. R. 178, Box 509',\n",
       " 'R. R. 178, Box 509',\n",
       " 'Keyesport Road',\n",
       " 'P.o. Box 203',\n",
       " 'P.o. Box 203',\n",
       " 'P.o. Box 203',\n",
       " 'P.o. Box 203',\n",
       " 'P.o. Box 203',\n",
       " 'P.o. Box 203',\n",
       " 'P.o. Box 203',\n",
       " 'P.o. Box 203',\n",
       " 'R.r. 1 Box 99',\n",
       " 'R.r. 1 Box 99',\n",
       " 'Route 17 West',\n",
       " '1125 North Collins Street',\n",
       " '950 Kingshighway P.o. Box 50',\n",
       " '1518 East 1800 North Road',\n",
       " '2 Miles East Of Mason',\n",
       " '2515 N. 23rd. Road',\n",
       " 'Route #2, Box 306',\n",
       " 'Route #2, Box 306',\n",
       " 'Route #2, Box 306',\n",
       " \"Governor's Hwy & Univ Pkwy\",\n",
       " \"Governor's Hwy & Univ Pkwy\",\n",
       " \"Governor's Hwy & Univ Pkwy\",\n",
       " '14548 Beaver Dam Lane',\n",
       " '650 East Taintor Road',\n",
       " 'Rr #2, Box 250',\n",
       " 'Rr #2, Box 250',\n",
       " 'Rr #2, Box 250',\n",
       " 'Rr #2, Box 250',\n",
       " 'Rr #2, Box 250',\n",
       " 'Rr #2, Box 250',\n",
       " 'Rr #2, Box 250',\n",
       " 'Rr #2, Box 250',\n",
       " 'R.r. 1 Box 99',\n",
       " 'Rr #1, Box 374',\n",
       " 'Rr #2, Box 87',\n",
       " 'Rr #2, Box 87',\n",
       " 'Rr #2, Box 87',\n",
       " 'Rr #2, Box 87',\n",
       " 'Rr #2, Box 87',\n",
       " 'Rr #2, Box 87',\n",
       " 'Rr #2, Box 87',\n",
       " 'Rr #2, Box 87',\n",
       " 'Rr #2, Box 87',\n",
       " 'Rr #2, Box 87',\n",
       " 'Rt 53 & Division St',\n",
       " '700 South Ela Road',\n",
       " 'Us-66, 4 Miles North',\n",
       " '1035 West Reynolds',\n",
       " '8313 Shiloh Valley Township',\n",
       " '400 West Wabash',\n",
       " 'Rte 9',\n",
       " '16450 West State Road',\n",
       " '120 West Jefferson',\n",
       " '',\n",
       " '',\n",
       " '',\n",
       " '',\n",
       " '',\n",
       " '',\n",
       " 'Rr #1, Box 204',\n",
       " 'Rr #1, Box 64',\n",
       " 'Rr #1, Box 64',\n",
       " 'Rr #1, Box 64',\n",
       " 'Rr #1, Box 64',\n",
       " 'Rr #1, Box 64',\n",
       " 'Rr #1, Box 64',\n",
       " 'Rr #1, Box 64',\n",
       " 'Rr #1, Box 64',\n",
       " '500 East Madison',\n",
       " '19268e 670n',\n",
       " 'P.o. Box 646',\n",
       " '950 Kingshighway P.o. Box 50',\n",
       " 'Rr #2, Box 250',\n",
       " 'Rr #2, Box 250',\n",
       " 'Rr #2, Box 250',\n",
       " '1365 West Castle Road',\n",
       " '2660 E 2350th Road',\n",
       " 'Keyesport Road',\n",
       " '112 North 6th Street',\n",
       " '212 North 6th Street',\n",
       " 'Rt 53 & Division St',\n",
       " 'Rt 53 & Division St',\n",
       " '27500 N. 1200 Avenue',\n",
       " 'Rr #1, Box 374',\n",
       " 'Rt 53 & Division St',\n",
       " 'Rr #1, Box 157',\n",
       " 'Rr #1, Box 157',\n",
       " '14967 Dun Creek Trail',\n",
       " 'Rr #3, Po Box 74',\n",
       " 'Rr #3, Po Box 74',\n",
       " 'Rr# 1',\n",
       " 'Rr# 1',\n",
       " 'Rr# 1',\n",
       " 'Rr# 1',\n",
       " 'Rr# 1',\n",
       " 'Rr #1, Box 374',\n",
       " '38 West 060 Rte 38',\n",
       " '38 West 060 Rte 38',\n",
       " 'R.r. #3, Box 1000',\n",
       " '700 North Cherry Street',\n",
       " '601 James R Thompson Blvd',\n",
       " '601 James R Thompson Blvd',\n",
       " '600 S. Hoyne',\n",
       " 'Kimball Street',\n",
       " '5010 North Jugtown Road',\n",
       " '1350 State Hwy 155',\n",
       " '1350 State Hwy 155',\n",
       " '1350 State Hwy 155',\n",
       " '1350 State Hwy 155',\n",
       " '1350 State Hwy 155',\n",
       " 'Kimball Street',\n",
       " 'Kimball Street',\n",
       " 'Kimball Street',\n",
       " 'Kimball Street',\n",
       " 'Kimball Street',\n",
       " 'Kimball Street',\n",
       " 'Kimball Street',\n",
       " 'Kimball Street',\n",
       " 'Kimball Street',\n",
       " 'Kimball Street',\n",
       " 'Kimball Street',\n",
       " 'Kimball Street',\n",
       " 'Kimball Street',\n",
       " 'Kimball Street',\n",
       " 'Kimball Street',\n",
       " 'Columbus Street',\n",
       " '30550 South Boathouse Road',\n",
       " '30550 South Boathouse Road',\n",
       " 'Kentville Road',\n",
       " 'P.o. Box 200, Hwy 146e',\n",
       " 'Harlem Ave & Rt 175-rock I Rr',\n",
       " '201 W Center Ct',\n",
       " '3268 W Pleas3ent Hill Rd',\n",
       " '15621 N 42 St',\n",
       " '1150 Douglas Drive',\n",
       " '1206 Touch Of Nature Road',\n",
       " '2225 W. Harrison',\n",
       " '10956 Dickson Mounds Road',\n",
       " '10956 Dickson Mounds Road',\n",
       " 'Box 599',\n",
       " '1206 Touch Of Nature Road',\n",
       " '39947 North State Park Road',\n",
       " '39947 North State Park Road',\n",
       " '39947 North State Park Road',\n",
       " '39947 North State Park Road',\n",
       " '39947 North State Park Road',\n",
       " '39947 North State Park Road',\n",
       " 'R.r. 1 Box 99',\n",
       " '39947 North State Park Road',\n",
       " '39947 North State Park Road',\n",
       " 'P.o. Box 708',\n",
       " 'P.o. Box 708',\n",
       " 'P.o. Box 708',\n",
       " 'P.o. Box 708',\n",
       " 'P.o. Box 708',\n",
       " 'P.o. Box 708',\n",
       " 'P.o. Box 708',\n",
       " 'P.o. Box 708',\n",
       " 'P.o. Box 708',\n",
       " 'R. R. #3',\n",
       " 'R. R. #3',\n",
       " 'R.r. #1, Box 43',\n",
       " '22979 North Bowman Avenue',\n",
       " 'Rr #1, Box 234',\n",
       " 'Po Box 209',\n",
       " 'Po Box 209',\n",
       " 'R. R. #4, Box 144',\n",
       " 'P.o. Box 500, Rte. 51 N.',\n",
       " 'P.o. Box 500, Rte. 51 N.',\n",
       " 'P.o. Box 500, Rte. 51 N.',\n",
       " 'P.o. Box 500, Rte. 51 N.',\n",
       " '17808 State Highway 100w',\n",
       " '215 North Lime Kiln Road',\n",
       " '215 North Lime Kiln Road',\n",
       " 'Caton Farm Road & Il 53',\n",
       " '2 Miles East Of Mason',\n",
       " 'Keyesport Road',\n",
       " 'Keyesport Road',\n",
       " 'Rt. 1, Box 49',\n",
       " 'Rt. 1, Box 49',\n",
       " '400 West Wabash',\n",
       " 'Rr #1, Box298',\n",
       " 'Rr #1, Box298',\n",
       " 'Rr #1, Box298',\n",
       " 'Rr #1, Box298',\n",
       " 'Rr #1, Box298',\n",
       " 'Rr #1, Box298',\n",
       " 'Rr #1, Box298',\n",
       " 'Rr #1, Box298',\n",
       " 'Rr #1, Box298',\n",
       " 'Rr #1, Box298',\n",
       " 'Rr #1, Box298',\n",
       " 'Rr #1, Box298',\n",
       " 'Rr #1, Box298',\n",
       " 'Rr #1, Box298',\n",
       " 'Rr #1, Box298',\n",
       " 'Keyesport Road',\n",
       " 'Rr #2, Box 2',\n",
       " 'Rt. 1, Box 49',\n",
       " 'Rt. 1, Box 49',\n",
       " 'Rt. 1, Box 49',\n",
       " 'Rt. 1, Box 49',\n",
       " 'Rt. 1, Box 49',\n",
       " 'Rt. 1, Box 49',\n",
       " 'Rt. 1, Box 49',\n",
       " 'Rt. 1, Box 49',\n",
       " 'Rr 1 Box 235',\n",
       " 'Rr 1 Box 235',\n",
       " '3856 N Taylor Road, Rr 2',\n",
       " '3856 N Taylor Road, Rr 2',\n",
       " '3856 N Taylor Road, Rr 2',\n",
       " '3856 N Taylor Road, Rr 2',\n",
       " '3856 N Taylor Road, Rr 2',\n",
       " '3856 N Taylor Road, Rr 2',\n",
       " '3856 N Taylor Road, Rr 2',\n",
       " '3856 N Taylor Road, Rr 2',\n",
       " 'R.r. 1 Box 99',\n",
       " '3856 N Taylor Road, Rr 2',\n",
       " '3856 N Taylor Road, Rr 2',\n",
       " '3856 N Taylor Road, Rr 2',\n",
       " '3856 N Taylor Road, Rr 2',\n",
       " '3856 N Taylor Road, Rr 2',\n",
       " '3856 N Taylor Road, Rr 2',\n",
       " '3856 N Taylor Road, Rr 2',\n",
       " '3856 N Taylor Road, Rr 2',\n",
       " '3856 N Taylor Road, Rr 2',\n",
       " '3856 N Taylor Road, Rr 2',\n",
       " '3856 N Taylor Road, Rr 2',\n",
       " '3856 N Taylor Road, Rr 2',\n",
       " '3856 N Taylor Road, Rr 2',\n",
       " '3856 N Taylor Road, Rr 2',\n",
       " '3856 N Taylor Road, Rr 2',\n",
       " '3856 N Taylor Road, Rr 2',\n",
       " '3856 N Taylor Road, Rr 2',\n",
       " '3856 N Taylor Road, Rr 2',\n",
       " '3856 N Taylor Road, Rr 2',\n",
       " '3856 N Taylor Road, Rr 2',\n",
       " '3856 N Taylor Road, Rr 2',\n",
       " '3856 N Taylor Road, Rr 2',\n",
       " '3856 N Taylor Road, Rr 2',\n",
       " '3856 N Taylor Road, Rr 2',\n",
       " '3856 N Taylor Road, Rr 2',\n",
       " '3856 N Taylor Road, Rr 2',\n",
       " '3856 N Taylor Road, Rr 2',\n",
       " '3856 N Taylor Road, Rr 2',\n",
       " '3856 N Taylor Road, Rr 2',\n",
       " '3856 N Taylor Road, Rr 2',\n",
       " '3856 N Taylor Road, Rr 2',\n",
       " '3856 N Taylor Road, Rr 2',\n",
       " '3856 N Taylor Road, Rr 2',\n",
       " '3856 N Taylor Road, Rr 2',\n",
       " '3856 N Taylor Road, Rr 2',\n",
       " '3856 N Taylor Road, Rr 2',\n",
       " '3856 N Taylor Road, Rr 2',\n",
       " '3856 N Taylor Road, Rr 2',\n",
       " '3856 N Taylor Road, Rr 2',\n",
       " '3856 N Taylor Road, Rr 2',\n",
       " '3856 N Taylor Road, Rr 2',\n",
       " '3856 N Taylor Road, Rr 2',\n",
       " '3856 N Taylor Road, Rr 2',\n",
       " '3856 N Taylor Road, Rr 2',\n",
       " '3856 N Taylor Road, Rr 2',\n",
       " '3856 N Taylor Road, Rr 2',\n",
       " '3856 N Taylor Road, Rr 2',\n",
       " '3856 N Taylor Road, Rr 2',\n",
       " '3856 N Taylor Road, Rr 2',\n",
       " '3856 N Taylor Road, Rr 2',\n",
       " '3856 N Taylor Road, Rr 2',\n",
       " '3856 N Taylor Road, Rr 2',\n",
       " '3856 N Taylor Road, Rr 2',\n",
       " '3856 N Taylor Road, Rr 2',\n",
       " '3856 N Taylor Road, Rr 2',\n",
       " '3856 N Taylor Road, Rr 2',\n",
       " '3856 N Taylor Road, Rr 2',\n",
       " '3856 N Taylor Road, Rr 2',\n",
       " '3856 N Taylor Road, Rr 2',\n",
       " '3856 N Taylor Road, Rr 2',\n",
       " '3856 N Taylor Road, Rr 2',\n",
       " '3856 N Taylor Road, Rr 2',\n",
       " '3856 N Taylor Road, Rr 2',\n",
       " '3856 N Taylor Road, Rr 2',\n",
       " '3856 N Taylor Road, Rr 2',\n",
       " '3856 N Taylor Road, Rr 2',\n",
       " '3856 N Taylor Road, Rr 2',\n",
       " '3856 N Taylor Road, Rr 2',\n",
       " '3856 N Taylor Road, Rr 2',\n",
       " '3856 N Taylor Road, Rr 2',\n",
       " '3856 N Taylor Road, Rr 2',\n",
       " '3856 N Taylor Road, Rr 2',\n",
       " '3856 N Taylor Road, Rr 2',\n",
       " 'P.o. Box 158',\n",
       " 'R. R. 1, Box 345',\n",
       " 'R. R. 1, Box 345',\n",
       " '0.r. 1 Box 99',\n",
       " 'R.r. 1 Box 99',\n",
       " 'R.r. 1 Box 99',\n",
       " 'R.r. 1 Box 99',\n",
       " 'R.r. 1 Box 99',\n",
       " 'R.r. 1 Box 99',\n",
       " 'R.r. 1 Box 99',\n",
       " 'R.r. 1 Box 99',\n",
       " 'R.r. 1 Box 99',\n",
       " 'R.r. 1 Box 99',\n",
       " 'R.r. 1 Box 99',\n",
       " 'R.r. 1 Box 99',\n",
       " 'R.r. 1 Box 99',\n",
       " 'R.r. 1 Box 99',\n",
       " 'R.r. 1 Box 99',\n",
       " 'R.r. 1 Box 99',\n",
       " 'R.r. 1 Box 99',\n",
       " 'R.r. 1 Box 99',\n",
       " 'R.r. 1 Box 99',\n",
       " 'R.r. 1 Box 99',\n",
       " 'R.r. 1 Box 99',\n",
       " 'R.r. 1 Box 99',\n",
       " 'R.r. 1 Box 99',\n",
       " 'Kentville Road',\n",
       " 'Route 3 & Rainbow Drive',\n",
       " '636 Boot Camp Road',\n",
       " '1916 Techny Road',\n",
       " '3516 West Washington Street',\n",
       " '1035 West Reynolds',\n",
       " '1035 West Reynolds',\n",
       " '8th & Sangamon Avenue',\n",
       " 'U.s. Route 66 South',\n",
       " 'U.s. Route 66 South',\n",
       " 'Route 51 South',\n",
       " '1301 South Oak Street',\n",
       " '2301 South Lincoln Avenue',\n",
       " '2301 South Lincoln Avenue',\n",
       " '2301 South Lincoln Avenue',\n",
       " 'South Race Street',\n",
       " '3305 South Race Street',\n",
       " 'South Race Street',\n",
       " 'South Race Street',\n",
       " 'South Race Street',\n",
       " 'South Race Street',\n",
       " 'South Race Street',\n",
       " 'South Race Street',\n",
       " 'South Race Street',\n",
       " 'South Race Street',\n",
       " '3105 South Race Street',\n",
       " 'South Race',\n",
       " '1910 Griffith',\n",
       " \"411 St. Mary's Road\",\n",
       " 'Hazelwood Drive',\n",
       " \"1201 St. Mary's Road\",\n",
       " \"1201 East St. Mary's Road\",\n",
       " \"1201 East St. Mary's Road\",\n",
       " \"East St. Mary's Road\",\n",
       " '1101 West Taylor Street',\n",
       " '1515 West 15th Street',\n",
       " '3105 South Race Street',\n",
       " '1435 Douglas Drive',\n",
       " '3674 West Pleasent Hill Road',\n",
       " '1220 S Washington St',\n",
       " '1900 North Illinois',\n",
       " '',\n",
       " \"O'conor Ave & N Crosat St\",\n",
       " '1110 South Paulina Street',\n",
       " 'Rt. #4',\n",
       " 'Rt. #4',\n",
       " 'P.o. Box 338',\n",
       " 'P.o. Box 338',\n",
       " 'P.o. Box 338',\n",
       " 'P.o. Box 338',\n",
       " 'P.o. Box 338',\n",
       " 'P.o. Box 338',\n",
       " '861 South State Street',\n",
       " 'R.r. #3, Box 1000',\n",
       " 'R.r. #3, Box 1000',\n",
       " 'R.r. #3, Box 549',\n",
       " 'Ill Route 14 West',\n",
       " 'Enterprise',\n",
       " 'Ill Route 14 West',\n",
       " 'Ill Route 14 West',\n",
       " 'Route #2, Box 306',\n",
       " 'Route #2, Box 306',\n",
       " 'Route #2, Box 306',\n",
       " 'Route #2, Box 306',\n",
       " 'Rr #1 Box 39',\n",
       " 'Rr #1, Box 374',\n",
       " 'Rr #1, Box 374',\n",
       " 'Rr #1, Box 374',\n",
       " 'R. R. #1, Box 73',\n",
       " 'R. R. #1, Box 73',\n",
       " 'R. R. #1, Box 73',\n",
       " 'R. R. #1, Box 73',\n",
       " 'R. R. #1, Box 73',\n",
       " 'R. R. #1, Box 73',\n",
       " 'R. R. #1, Box 73',\n",
       " 'R. R. #1, Box 73',\n",
       " 'R. R. #1, Box 73',\n",
       " 'R. R. #1, Box 73',\n",
       " 'R. R. #1, Box 73',\n",
       " '700 West Lincoln Street',\n",
       " 'Shattuc Road',\n",
       " 'Shattuc Road',\n",
       " '16010 South Crawford Ave',\n",
       " '1971 North Morton Avenue',\n",
       " 'Henderson Road At I-74',\n",
       " 'Rr #3, Po Box 74',\n",
       " 'Rte 3 Box 338',\n",
       " 'P.o. Box 400,supermax Road',\n",
       " '2687 Union Hill Road',\n",
       " '95th & King Dirve',\n",
       " 'Northern Illinois University',\n",
       " 'Northern Illinois University',\n",
       " 'Northern Illinois University',\n",
       " '1805 West Lincoln Hwy',\n",
       " '2211 Sycamore Road',\n",
       " '202 Normal Road',\n",
       " '1515 West Lincoln Hwy',\n",
       " '801 North First Street',\n",
       " 'Mulford Road',\n",
       " '1707 North 12th Street',\n",
       " 'Route 3 & Rainbow Drive',\n",
       " 'Il Rt 16 West',\n",
       " '2651 North 21st Road',\n",
       " 'Shattuc Road',\n",
       " '2649 North 21st Road',\n",
       " '2651 North 21st Road',\n",
       " 'Box 45aa',\n",
       " 'Box 45aa',\n",
       " 'Box 45aa',\n",
       " '2911 South Lincoln Avenue',\n",
       " '2909 South Lincoln Avenue',\n",
       " 'Dugdale Circle',\n",
       " 'Dugdale Circle',\n",
       " 'Dugdale Circle',\n",
       " 'Dugdale Circle',\n",
       " 'Dugdale Circle',\n",
       " 'Dugdale Circle',\n",
       " 'Dugdale Circle',\n",
       " 'Dugdale Circle',\n",
       " 'Dugdale Circle',\n",
       " 'Rr #1',\n",
       " 'Rr #1',\n",
       " 'Rr #1',\n",
       " 'Rr #1',\n",
       " 'Rr #1',\n",
       " 'Rr #1, Box298',\n",
       " 'Rr #1, Box298',\n",
       " 'Rr #1, Box298',\n",
       " 'Rr #4',\n",
       " 'Rr #4',\n",
       " 'Rr #4',\n",
       " 'Rr #4',\n",
       " 'Rr #4',\n",
       " 'Rr #4',\n",
       " 'Rr #1, Box 179',\n",
       " 'Rt 1, Box 429',\n",
       " '2651 North 21st Road',\n",
       " 'Il Beach State Park, Ranger',\n",
       " '39947 North State Park Road',\n",
       " '39947 North State Park Road',\n",
       " '39947 North State Park Road',\n",
       " '39947 North State Park Road',\n",
       " '39947 North State Park Road',\n",
       " '39947 North State Park Road',\n",
       " '39947 North State Park Road',\n",
       " '39947 North State Park Road',\n",
       " '39947 North State Park Road',\n",
       " '39947 North State Park Road',\n",
       " '39947 North State Park Road',\n",
       " '39947 North State Park Road',\n",
       " '39947 North State Park Road',\n",
       " '39947 North State Park Road',\n",
       " '39947 North State Park Road',\n",
       " '39947 North State Park Road',\n",
       " '39947 North State Park Road',\n",
       " '39947 North State Park Road',\n",
       " '39947 North State Park Road',\n",
       " '39947 North State Park Road',\n",
       " '39947 North State Park Road',\n",
       " '39947 North State Park Road',\n",
       " '39947 North State Park Road',\n",
       " '39947 North State Park Road',\n",
       " '39947 North State Park Road',\n",
       " '39947 North State Park Road',\n",
       " '39947 North State Park Road',\n",
       " '39947 North State Park Road',\n",
       " '39947 North State Park Road',\n",
       " '39947 North State Park Road',\n",
       " '39947 North State Park Road',\n",
       " '39947 North State Park Road',\n",
       " '39947 North State Park Road',\n",
       " '39947 North State Park Road',\n",
       " '39947 North State Park Road',\n",
       " '39947 North State Park Road',\n",
       " '39947 North State Park Road',\n",
       " 'R. R. 2',\n",
       " '39947 North State Park Road',\n",
       " '39947 North State Park Road',\n",
       " '39947 North State Park Road',\n",
       " '39947 North State Park Road',\n",
       " '39947 North State Park Road',\n",
       " 'R. R. #1, Box 73',\n",
       " 'R. R. #1, Box 73',\n",
       " 'R. R. #1, Box 73',\n",
       " 'R. R. #1, Box 73',\n",
       " 'R. R. #1, Box 73',\n",
       " 'R. R. #1, Box 73',\n",
       " 'R. R. #1, Box 73',\n",
       " 'R. R. #1, Box 73',\n",
       " 'R. R. #1, Box 73',\n",
       " 'R. R. #1, Box 73',\n",
       " 'R. R. #1, Box 73',\n",
       " 'R. R. #1, Box 73',\n",
       " 'R. R. #1, Box 73',\n",
       " 'R. R. #1, Box 73',\n",
       " 'R. R. #1, Box 73',\n",
       " 'R. R. #1, Box 73',\n",
       " 'R. R. #1, Box 73',\n",
       " 'R. R. #1, Box 73',\n",
       " 'R. R. #1, Box 73',\n",
       " 'R. R. #1, Box 73',\n",
       " 'Route 3 North',\n",
       " '2600 North Brinton',\n",
       " 'Route 3 & Rainbow Drive',\n",
       " 'P.o. Box 200, Hwy 146e',\n",
       " 'Route 3 & Rainbow Drive',\n",
       " 'R.r. 1',\n",
       " 'Ill Route 14 West',\n",
       " 'Ill Route 14 West',\n",
       " 'Williams Hill',\n",
       " '8th & Sangamon Avenue',\n",
       " 'Route #2, Box 306',\n",
       " 'Route #2, Box 306',\n",
       " '2600 North Brinton',\n",
       " 'R.r. 1 Box 99',\n",
       " '19268e 670n',\n",
       " '19268e 670n',\n",
       " '19268e 670n',\n",
       " '19268e 670n',\n",
       " '2651 North 21st Road',\n",
       " '2651 North 21st Road',\n",
       " '2651 North 21st Road',\n",
       " 'So Sidney',\n",
       " 'Kimball Street',\n",
       " '60 Hazelwood Drive',\n",
       " 'One Veterans Drive',\n",
       " '1971 North Morton Avenue',\n",
       " 'Route 185',\n",
       " '8542 North Lake Road',\n",
       " 'I 55',\n",
       " 'I 55',\n",
       " 'I 55',\n",
       " 'I 55',\n",
       " 'I 55',\n",
       " 'I 55',\n",
       " 'I 55',\n",
       " 'I 55',\n",
       " 'I 55',\n",
       " 'I 55',\n",
       " 'I 55',\n",
       " 'I 55',\n",
       " 'I 55',\n",
       " 'I 55',\n",
       " 'I 55',\n",
       " 'I 55',\n",
       " 'Rte 37 So',\n",
       " 'Il Beach State Park, Ranger',\n",
       " '728 Exchange Avenue',\n",
       " 'Us 24',\n",
       " 'Exit 88 And I-55',\n",
       " '1206 West Gregory Drive',\n",
       " 'Rt. #4',\n",
       " 'Rt. #4',\n",
       " 'Rt. #4',\n",
       " 'Rt. #4',\n",
       " 'Rt. #4',\n",
       " 'Rt. #4',\n",
       " '38 West 060 Rte 38',\n",
       " '95th & King Dirve',\n",
       " '1 Mi W Of Il 59 & 19 S',\n",
       " 'Route 33',\n",
       " 'Route 3 & Rainbow Drive',\n",
       " 'Route 3 & Rainbow Drive',\n",
       " '1971 North Morton Avenue',\n",
       " '2515 N. 23rd. Road',\n",
       " '2515 N. 23rd. Road',\n",
       " '2515 N. 23rd. Road',\n",
       " '2515 N. 23rd. Road',\n",
       " '2515 N. 23rd. Road',\n",
       " '2515 N. 23rd. Road',\n",
       " 'Rr #2, Box 2',\n",
       " '24621 North River Road',\n",
       " '24621 North River Road',\n",
       " '24621 North River Road',\n",
       " '24621 North River Road',\n",
       " '24621 North River Road',\n",
       " '24621 North River Road',\n",
       " '24621 North River Road',\n",
       " '301 North Goodwin',\n",
       " 'P.o. Box 646',\n",
       " 'P.o. Box 646',\n",
       " 'P.o. Box 646',\n",
       " 'P.o. Box 646',\n",
       " 'P.o. Box 646',\n",
       " 'P.o. Box 646',\n",
       " 'P.o. Box 646',\n",
       " 'P.o. Box 646',\n",
       " 'P.o. Box 646',\n",
       " 'R R 2 Box 72',\n",
       " 'R. R. 2',\n",
       " 'R. R. #1, Box 127 Lock 26',\n",
       " 'R. R. #1, Box 127 Lock 23',\n",
       " 'R. R. #1, Box 127 Bridge 23',\n",
       " 'R. R. #1, Box 127 Lock 22',\n",
       " 'R. R. #1, Box 127 Bridge 50',\n",
       " 'R. R. #1, Box 127 Bridge 64',\n",
       " 'R. R. #1, Box 127 Bridge 15',\n",
       " 'R. R. #1, Box 127 Bridge 14',\n",
       " 'R. R. #1, Box 127 Lock 21',\n",
       " 'R. R. #1, Box 127 Lock 21',\n",
       " 'Rr 1 Box 127 Lock 21',\n",
       " 'Rr 1 Box 127 Lock 17',\n",
       " 'Rr 1 Box 127 Lock 11',\n",
       " 'Rr 1 Box 127 Lock 6',\n",
       " 'Rr 1 Box 127 Lock 3',\n",
       " 'Rr 1 Box 127 Lock 2',\n",
       " 'Rr 1 Box 127 Bridge 56',\n",
       " '1125 Collins Street',\n",
       " '1125 Collins Street',\n",
       " 'Us Route 30 & Bloody Gulch Rd.',\n",
       " '33251 1525 North Avenue',\n",
       " '9741 Us Hwy 30',\n",
       " '335 North Grove',\n",
       " '2515 N. 23rd. Road',\n",
       " 'Siue',\n",
       " 'P.o. Box 500, Rte. 51 N.',\n",
       " '5201 West Flournoy',\n",
       " '225 East Grand',\n",
       " '4325 Crenshaw Lane',\n",
       " '4325 Crenshaw Lane',\n",
       " '4325 Crenshaw Lane',\n",
       " '1st And Capitol',\n",
       " '1st And Capitol',\n",
       " '1st And Capitol',\n",
       " '1st And Capitol',\n",
       " '1st And Capitol',\n",
       " '1st And Capitol',\n",
       " '1st And Capitol',\n",
       " '1st And Capitol',\n",
       " '1st And Capitol',\n",
       " '1st And Capitol',\n",
       " '1st And Capitol',\n",
       " '1st And Capitol',\n",
       " '1st And Capitol',\n",
       " '1st And Capitol',\n",
       " '1st And Capitol',\n",
       " '1st And Capitol',\n",
       " '1st And Capitol',\n",
       " 'North Short 11th Street',\n",
       " '702 Kochs Lane',\n",
       " '702 Kochs Lane',\n",
       " '11 Quest Drive',\n",
       " 'U.s. Route 67 North',\n",
       " '16450 West State Road',\n",
       " 'P.o. Box 338',\n",
       " 'P.o. Box 338',\n",
       " 'P.o. Box 338',\n",
       " 'Rr #1 Box 117',\n",
       " 'Rr #1 Box 117',\n",
       " 'Rr #1 Box 117',\n",
       " 'Rr #1 Box 117',\n",
       " 'Rr #1 Box 117',\n",
       " 'Rr #1 Box 117',\n",
       " 'Rr #1 Box 117',\n",
       " 'Rr #1 Box 117',\n",
       " 'Rr #1 Box 117',\n",
       " 'Rr #1 Box 117',\n",
       " 'Rr #1 Box 117',\n",
       " 'Rr #1 Box 117',\n",
       " 'Rr #1 Box 117',\n",
       " 'Rr #1 Box 117',\n",
       " 'Rr #1 Box 117',\n",
       " 'Rr #1 Box 117',\n",
       " 'Rr #1 Box 117',\n",
       " 'Rr #1 Box 117',\n",
       " 'Rr #1 Box 117',\n",
       " 'Rr #1 Box 117',\n",
       " 'Rr #1, P.o.box 172a',\n",
       " 'One Veterans Drive',\n",
       " 'R.r. #1, Box 200',\n",
       " '1 Lewis & Clark Trail',\n",
       " 'Hemlock',\n",
       " 'Hemlock',\n",
       " 'Rt. #4',\n",
       " 'Rt. #4',\n",
       " 'Us 41 And 173',\n",
       " 'Us 41 And 173',\n",
       " 'St.charles + 83',\n",
       " '2931 State Street',\n",
       " '14548 Beaver Dam Lane',\n",
       " '14548 Beaver Dam Lane',\n",
       " '14548 Beaver Dam Lane',\n",
       " '14548 Beaver Dam Lane',\n",
       " '14548 Beaver Dam Lane',\n",
       " '14548 Beaver Dam Lane',\n",
       " '14548 Beaver Dam Lane',\n",
       " '14548 Beaver Dam Lane',\n",
       " 'Keyesport Road',\n",
       " 'Keyesport Road',\n",
       " 'Keyesport Road',\n",
       " 'Keyesport Road',\n",
       " 'Keyesport Road',\n",
       " 'Keyesport Road',\n",
       " 'Keyesport Road',\n",
       " 'Keyesport Road',\n",
       " 'Keyesport Road',\n",
       " 'Keyesport Road',\n",
       " 'Keyesport Road',\n",
       " 'Keyesport Road',\n",
       " 'Keyesport Road',\n",
       " 'Keyesport Road',\n",
       " 'Keyesport Road',\n",
       " 'Po Box 400, 200 E. Supermax Rd',\n",
       " '8th & Sangamon Avenue',\n",
       " 'R. R. 2',\n",
       " '8th & Sangamon Avenue',\n",
       " '8th & Sangamon Avenue',\n",
       " '8th & Sangamon Avenue',\n",
       " '8th & Sangamon Avenue',\n",
       " '8th & Sangamon Avenue',\n",
       " '8th & Sangamon Avenue',\n",
       " '1001 S. Oakland Ave',\n",
       " 'Dirksen Parkway At Ash Street',\n",
       " 'Rr 4',\n",
       " 'Rr 4',\n",
       " 'Rr 4',\n",
       " 'Rr 4',\n",
       " 'Rr 4',\n",
       " 'Rr 4',\n",
       " 'Rr 4',\n",
       " 'Rr #2, Box 87',\n",
       " 'Rr #2, Box 87',\n",
       " 'Rr #2, Box 87',\n",
       " 'Rr #2, Box 87',\n",
       " 'Rr #2, Box 87',\n",
       " '1700 South Feazel Street',\n",
       " 'Rr 1,box 338',\n",
       " 'Rr 1,box 338',\n",
       " 'Rr 1,box 338',\n",
       " '1120 Washington Ave',\n",
       " '1120 Washington Ave',\n",
       " '1 Langhorne Bond Drive',\n",
       " 'Rt 1, Box 429',\n",
       " 'Rr 1,box 338',\n",
       " 'Rr 1,box 338',\n",
       " 'Rr 1,box 338',\n",
       " '861 South State Street',\n",
       " '861 South State Street',\n",
       " '861 South State Street',\n",
       " '861 South State Street',\n",
       " '510 Avenue \"c\"',\n",
       " 'I-55 & Route 104',\n",
       " '374 East Grand Avenue',\n",
       " '1707 North 12th Street',\n",
       " 'Rr 1,box 338',\n",
       " 'Rr 1,box 338',\n",
       " 'Rr 1,box 338',\n",
       " 'Rr 1,box 338',\n",
       " 'Rr 1,box 338',\n",
       " 'Rr 1,box 338',\n",
       " 'Rr 1,box 338',\n",
       " 'Rr 1,box 338',\n",
       " 'Anderson Lake C.a.',\n",
       " 'R.r. #1',\n",
       " 'R.r. #1',\n",
       " 'R.r. #1',\n",
       " 'R.r. #1',\n",
       " 'R.r. #1',\n",
       " 'R.r. #1',\n",
       " 'R.r. #1',\n",
       " 'R.r. #1',\n",
       " 'R.r. #1',\n",
       " 'R.r. #1',\n",
       " '95th & King Dirve',\n",
       " '700 Lincoln Avenue',\n",
       " '1st And Capitol',\n",
       " '362 North Linwood Road',\n",
       " 'Kimball Street',\n",
       " 'Kimball Street',\n",
       " 'Kimball Street',\n",
       " '1101 Route 14 West',\n",
       " '2813 Il 145',\n",
       " '7586 U.s. 40',\n",
       " '7151 West Forest Preserve Dr.',\n",
       " '601 James R Thompson Blvd',\n",
       " '7600 West 183rd Street',\n",
       " 'R. R. #3',\n",
       " '2515 N. 23rd. Road',\n",
       " '2515 N. 23rd. Road',\n",
       " '2515 N. 23rd. Road',\n",
       " '2200 South Dirksen Parkway',\n",
       " 'Rr #1, Box298',\n",
       " 'Rr #1, Box298',\n",
       " 'Rr #1, Box298',\n",
       " '210 W. South St',\n",
       " 'R. R. #1, Box 73',\n",
       " 'R. R. #1, Box 73',\n",
       " 'R. R. #1, Box 73',\n",
       " 'R. R. #1, Box 73',\n",
       " 'R. R. #1, Box 73',\n",
       " 'R. R. #1, Box 73',\n",
       " 'R. R. #1, Box 73',\n",
       " 'R. R. #1, Box 73',\n",
       " 'R. R. #1, Box 73',\n",
       " 'R. R. #1, Box 73',\n",
       " 'R. R. #1, Box 73',\n",
       " 'R. R. #1, Box 73',\n",
       " 'R. R. #1, Box 73',\n",
       " 'R. R. #1, Box 73',\n",
       " 'R. R. #1, Box 73',\n",
       " 'R. R. #1, Box 73',\n",
       " 'R. R. #1, Box 73',\n",
       " 'R. R. #1, Box 73',\n",
       " 'R. R. #1, Box 73',\n",
       " 'R. R. #1, Box 73',\n",
       " 'R. R. #1, Box 73',\n",
       " 'R. R. #1, Box 73',\n",
       " 'R. R. #1, Box 73',\n",
       " '301 North 6th Street',\n",
       " 'R.r. #1, Box 200',\n",
       " 'R.r.#1',\n",
       " 'R.r.#1',\n",
       " 'R.r.#1',\n",
       " 'R.r.#1',\n",
       " 'R.r.#1',\n",
       " 'R.r.#1',\n",
       " 'R.r.#1',\n",
       " 'R.r. 5',\n",
       " '3300 River Drive',\n",
       " 'Rr #1, Box 374',\n",
       " 'Rr #1, Box 374',\n",
       " 'Rr #1, Box 374',\n",
       " '124 W. Williams',\n",
       " '124 W. Williams',\n",
       " 'P.o. Box 646',\n",
       " '10410 County Road 18',\n",
       " '10410 County Road 18',\n",
       " '10410 County Road 18',\n",
       " '10410 County Road 18',\n",
       " '10410 County Road 18',\n",
       " '10410 County Road 18',\n",
       " '10410 County Road 18',\n",
       " '10410 County Road 18',\n",
       " '10410 County Road 18',\n",
       " '10410 County Road 18',\n",
       " '10410 County Road 18',\n",
       " '10410 County Road 18',\n",
       " '10410 County Road 18',\n",
       " '10410 County Road 18',\n",
       " '10410 County Road 18',\n",
       " '10410 County Road 18',\n",
       " '10410 County Road 18',\n",
       " '10410 County Road 18',\n",
       " '10410 County Road 18',\n",
       " '10410 County Road 18',\n",
       " '10410 County Road 18',\n",
       " '10410 County Road 18',\n",
       " '10410 County Road 18',\n",
       " '10410 County Road 18',\n",
       " '10410 County Road 18',\n",
       " '10410 County Road 18',\n",
       " '10410 County Road 18',\n",
       " '10410 County Road 18',\n",
       " '10410 County Road 18',\n",
       " '10410 County Road 18',\n",
       " '10410 County Road 18',\n",
       " '10410 County Road 18',\n",
       " '10410 County Road 18',\n",
       " '10410 County Road 18',\n",
       " '10410 County Road 18',\n",
       " '10410 County Road 18',\n",
       " '10410 County Road 18',\n",
       " '10410 County Road 18',\n",
       " '10410 County Road 18',\n",
       " '10410 County Road 18',\n",
       " '10410 County Road 18',\n",
       " '10410 County Road 18',\n",
       " '10410 County Road 18',\n",
       " '10410 County Road 18',\n",
       " '10410 County Road 18',\n",
       " '10410 County Road 18',\n",
       " '10410 County Road 18',\n",
       " '10410 County Road 18',\n",
       " '10410 County Road 18',\n",
       " '10410 County Road 18',\n",
       " '10410 County Road 18',\n",
       " '10410 County Road 18',\n",
       " '10410 County Road 18',\n",
       " '10410 County Road 18',\n",
       " '10410 County Road 18',\n",
       " '10410 County Road 18',\n",
       " '10410 County Road 18',\n",
       " '10410 County Road 18',\n",
       " '10410 County Road 18',\n",
       " '10410 County Road 18',\n",
       " '10410 County Road 18',\n",
       " '10410 County Road 18',\n",
       " '10410 County Road 18',\n",
       " '10410 County Road 18',\n",
       " '10410 County Road 18',\n",
       " '10410 County Road 18',\n",
       " '10410 County Road 18',\n",
       " '10410 County Road 18',\n",
       " '10410 County Road 18',\n",
       " '10410 County Road 18',\n",
       " '10410 County Road 18',\n",
       " '10410 County Road 18',\n",
       " '10410 County Road 18',\n",
       " '10410 County Road 18',\n",
       " '10410 County Road 18',\n",
       " '10410 County Road 18',\n",
       " '10410 County Road 18',\n",
       " '10410 County Road 18',\n",
       " '10410 County Road 18',\n",
       " '10410 County Road 18',\n",
       " '10410 County Road 18',\n",
       " '10410 County Road 18',\n",
       " '10410 County Road 18',\n",
       " '10410 County Road 18',\n",
       " '10410 County Road 18',\n",
       " '10410 County Road 18',\n",
       " '10410 County Road 18',\n",
       " '10410 County Road 18',\n",
       " '10410 County Road 18',\n",
       " '10410 County Road 18',\n",
       " '10410 County Road 18',\n",
       " '10410 County Road 18',\n",
       " '10410 County Road 18',\n",
       " '10410 County Road 18',\n",
       " '10410 County Road 18',\n",
       " '10410 County Road 18',\n",
       " '10410 County Road 18',\n",
       " '10410 County Road 18',\n",
       " '10410 County Road 18',\n",
       " '10410 County Road 18',\n",
       " '10410 County Road 18',\n",
       " '10410 County Road 18',\n",
       " '10410 County Road 18',\n",
       " '10410 County Road 18',\n",
       " 'R. R. 2',\n",
       " '10410 County Road 18',\n",
       " '10410 County Road 18',\n",
       " '10410 County Road 18',\n",
       " '10410 County Road 18',\n",
       " '10410 County Road 18',\n",
       " '10410 County Road 18',\n",
       " '10410 County Road 18',\n",
       " '10410 County Road 18',\n",
       " '10410 County Road 18',\n",
       " '10410 County Road 18',\n",
       " '10410 County Road 18',\n",
       " '10410 County Road 18',\n",
       " '10410 County Road 18',\n",
       " '10410 County Road 18',\n",
       " '10410 County Road 18',\n",
       " '10410 County Road 18',\n",
       " '10410 County Road 18',\n",
       " '10410 County Road 18',\n",
       " '10410 County Road 18',\n",
       " '10410 County Road 18',\n",
       " '10410 County Road 18',\n",
       " '10410 County Road 18',\n",
       " '10410 County Road 18',\n",
       " '10410 County Road 18',\n",
       " '10410 County Road 18',\n",
       " '10410 County Road 18',\n",
       " '10410 County Road 18',\n",
       " '10410 County Road 18',\n",
       " '10410 County Road 18',\n",
       " '10410 County Road 18',\n",
       " '10410 County Road 18',\n",
       " '10410 County Road 18',\n",
       " '10410 County Road 18',\n",
       " '10410 County Road 18',\n",
       " '10410 County Road 18',\n",
       " '10410 County Road 18',\n",
       " '10410 County Road 18',\n",
       " '10410 County Road 18',\n",
       " '10410 County Road 18',\n",
       " '10410 County Road 18',\n",
       " '10410 County Road 18',\n",
       " ...]"
      ]
     },
     "execution_count": 79,
     "metadata": {},
     "output_type": "execute_result"
    }
   ],
   "source": [
    "data[\"Address\"]"
   ]
  },
  {
   "cell_type": "code",
   "execution_count": null,
   "metadata": {
    "collapsed": true
   },
   "outputs": [],
   "source": []
  },
  {
   "cell_type": "code",
   "execution_count": 4,
   "metadata": {},
   "outputs": [
    {
     "data": {
      "text/plain": [
       "dict_keys(['Agency Name', 'Location Name', 'Address', 'City', 'Zip code', 'County', 'Congress Dist', 'Congressional Full Name', 'Rep Dist', 'Rep Full Name', 'Senate Dist', 'Senator Full Name', 'Bldg Status', 'Year Acquired', 'Year Constructed', 'Square Footage', 'Total Floors', 'Floors Above Grade', 'Floors Below Grade', 'Usage Description', 'Usage Description 2', 'Usage Description 3'])"
      ]
     },
     "execution_count": 4,
     "metadata": {},
     "output_type": "execute_result"
    }
   ],
   "source": [
    "data.keys()"
   ]
  },
  {
   "cell_type": "code",
   "execution_count": 5,
   "metadata": {},
   "outputs": [
    {
     "data": {
      "text/plain": [
       "dict"
      ]
     },
     "execution_count": 5,
     "metadata": {},
     "output_type": "execute_result"
    }
   ],
   "source": [
    "type(data)"
   ]
  },
  {
   "cell_type": "code",
   "execution_count": 6,
   "metadata": {},
   "outputs": [
    {
     "data": {
      "text/plain": [
       "dict_keys(['Agency Name', 'Location Name', 'Address', 'City', 'Zip code', 'County', 'Congress Dist', 'Congressional Full Name', 'Rep Dist', 'Rep Full Name', 'Senate Dist', 'Senator Full Name', 'Bldg Status', 'Year Acquired', 'Year Constructed', 'Square Footage', 'Total Floors', 'Floors Above Grade', 'Floors Below Grade', 'Usage Description', 'Usage Description 2', 'Usage Description 3'])"
      ]
     },
     "execution_count": 6,
     "metadata": {},
     "output_type": "execute_result"
    }
   ],
   "source": [
    "data.keys()"
   ]
  },
  {
   "cell_type": "code",
   "execution_count": 7,
   "metadata": {},
   "outputs": [
    {
     "data": {
      "text/plain": [
       "[<matplotlib.lines.Line2D at 0x7f9d82733be0>]"
      ]
     },
     "execution_count": 7,
     "metadata": {},
     "output_type": "execute_result"
    },
    {
     "data": {
      "image/png": "[encoded data removed]",
      "text/plain": [
       "<matplotlib.figure.Figure at 0x7f9da45dfd30>"
      ]
     },
     "metadata": {},
     "output_type": "display_data"
    }
   ],
   "source": [
    "plt.plot(data[\"Year Acquired\"], data[\"Year Constructed\"],'.')"
   ]
  },
  {
   "cell_type": "code",
   "execution_count": 8,
   "metadata": {},
   "outputs": [
    {
     "data": {
      "text/plain": [
       "[<matplotlib.lines.Line2D at 0x7f9d826bf518>]"
      ]
     },
     "execution_count": 8,
     "metadata": {},
     "output_type": "execute_result"
    },
    {
     "data": {
      "image/png": "[encoded data removed]",
      "text/plain": [
       "<matplotlib.figure.Figure at 0x7f9d82744860>"
      ]
     },
     "metadata": {},
     "output_type": "display_data"
    }
   ],
   "source": [
    "plt.plot(data[\"Year Acquired\"], data[\"Year Constructed\"],'.')"
   ]
  },
  {
   "cell_type": "code",
   "execution_count": 9,
   "metadata": {},
   "outputs": [
    {
     "data": {
      "text/plain": [
       "[<matplotlib.lines.Line2D at 0x7f9d8264c978>]"
      ]
     },
     "execution_count": 9,
     "metadata": {},
     "output_type": "execute_result"
    },
    {
     "data": {
      "image/png": "[encoded data removed]",
      "text/plain": [
       "<matplotlib.figure.Figure at 0x7f9d826c8cf8>"
      ]
     },
     "metadata": {},
     "output_type": "display_data"
    }
   ],
   "source": [
    "plt.plot(data[\"Year Acquired\"], data[\"Year Constructed\"],'*')"
   ]
  },
  {
   "cell_type": "code",
   "execution_count": 10,
   "metadata": {
    "collapsed": true
   },
   "outputs": [],
   "source": [
    "def my_function(a):\n",
    "    return a * 2"
   ]
  },
  {
   "cell_type": "code",
   "execution_count": 11,
   "metadata": {},
   "outputs": [
    {
     "data": {
      "text/plain": [
       "4"
      ]
     },
     "execution_count": 11,
     "metadata": {},
     "output_type": "execute_result"
    }
   ],
   "source": [
    "my_function(2)"
   ]
  },
  {
   "cell_type": "code",
   "execution_count": 12,
   "metadata": {
    "collapsed": true
   },
   "outputs": [],
   "source": [
    "def filter_greater(dataset, column, value): \n",
    "    good_vals = dataset[column] > value\n",
    "    filtered_dataset = {}\n",
    "    for col in dataset: \n",
    "        filtered_dataset[col] = dataset[col][good_vals]\n",
    "    \n",
    "    return filtered_dataset"
   ]
  },
  {
   "cell_type": "code",
   "execution_count": 13,
   "metadata": {},
   "outputs": [
    {
     "data": {
      "text/plain": [
       "{'Square Footage': array([   144.,    144.,    144., ...,    130.,  49552.,    288.]),\n",
       " 'Year Acquired': array([1975, 2004, 2004, ...,    0, 1971,    0]),\n",
       " 'Year Constructed': array([1975, 2004, 2004, ..., 1987, 1971, 2017])}"
      ]
     },
     "execution_count": 13,
     "metadata": {},
     "output_type": "execute_result"
    }
   ],
   "source": [
    "dataset={\n",
    "         'Year Acquired': data['Year Acquired'],\n",
    "         'Year Constructed':data['Year Constructed'],\n",
    "          'Square Footage':data['Square Footage']\n",
    "        }\n",
    "\n",
    "dataset"
   ]
  },
  {
   "cell_type": "code",
   "execution_count": 14,
   "metadata": {
    "collapsed": true
   },
   "outputs": [],
   "source": [
    "filtered = filter_greater(dataset,'Year Acquired', 1800)"
   ]
  },
  {
   "cell_type": "code",
   "execution_count": 15,
   "metadata": {},
   "outputs": [
    {
     "data": {
      "text/plain": [
       "{'Square Footage': array([   144.,    144.,    144., ...,    760.,    760.,  49552.]),\n",
       " 'Year Acquired': array([1975, 2004, 2004, ..., 2019, 2019, 1971]),\n",
       " 'Year Constructed': array([1975, 2004, 2004, ..., 2019, 2019, 1971])}"
      ]
     },
     "execution_count": 15,
     "metadata": {},
     "output_type": "execute_result"
    }
   ],
   "source": [
    "filtered"
   ]
  },
  {
   "cell_type": "code",
   "execution_count": 16,
   "metadata": {
    "collapsed": true
   },
   "outputs": [],
   "source": [
    "filtered = filter_greater(filtered, 'Year Constructed', 1800)"
   ]
  },
  {
   "cell_type": "code",
   "execution_count": 17,
   "metadata": {},
   "outputs": [
    {
     "data": {
      "text/plain": [
       "{'Square Footage': array([   144.,    144.,    144., ...,    760.,    760.,  49552.]),\n",
       " 'Year Acquired': array([1975, 2004, 2004, ..., 2019, 2019, 1971]),\n",
       " 'Year Constructed': array([1975, 2004, 2004, ..., 2019, 2019, 1971])}"
      ]
     },
     "execution_count": 17,
     "metadata": {},
     "output_type": "execute_result"
    }
   ],
   "source": [
    "filtered"
   ]
  },
  {
   "cell_type": "code",
   "execution_count": 20,
   "metadata": {},
   "outputs": [
    {
     "data": {
      "text/plain": [
       "[<matplotlib.lines.Line2D at 0x7f9d82469ba8>]"
      ]
     },
     "execution_count": 20,
     "metadata": {},
     "output_type": "execute_result"
    },
    {
     "data": {
      "image/png": "[encoded data removed]",
      "text/plain": [
       "<matplotlib.figure.Figure at 0x7f9d82509fd0>"
      ]
     },
     "metadata": {},
     "output_type": "display_data"
    }
   ],
   "source": [
    "plt.plot(filtered['Year Acquired'],filtered['Year Constructed'],'*')"
   ]
  },
  {
   "cell_type": "code",
   "execution_count": 28,
   "metadata": {},
   "outputs": [
    {
     "data": {
      "text/plain": [
       "[<matplotlib.lines.Line2D at 0x7f9d82274b70>]"
      ]
     },
     "execution_count": 28,
     "metadata": {},
     "output_type": "execute_result"
    },
    {
     "data": {
      "image/png": "[encoded data removed]",
      "text/plain": [
       "<matplotlib.figure.Figure at 0x7f9d822744e0>"
      ]
     },
     "metadata": {},
     "output_type": "display_data"
    }
   ],
   "source": [
    "plt.plot(filtered['Year Acquired'],filtered['Year Constructed'],'.')\n",
    "plt.plot( np.arange(1800, 2015), np.arange(1800, 2015), '+')"
   ]
  },
  {
   "cell_type": "code",
   "execution_count": 34,
   "metadata": {
    "collapsed": true
   },
   "outputs": [],
   "source": [
    "building_age=filtered['Year Acquired'] - filtered['Year Constructed']"
   ]
  },
  {
   "cell_type": "code",
   "execution_count": 30,
   "metadata": {},
   "outputs": [
    {
     "data": {
      "text/plain": [
       "array([0, 0, 0, ..., 0, 0, 0])"
      ]
     },
     "execution_count": 30,
     "metadata": {},
     "output_type": "execute_result"
    }
   ],
   "source": [
    "building_age"
   ]
  },
  {
   "cell_type": "code",
   "execution_count": 35,
   "metadata": {},
   "outputs": [
    {
     "data": {
      "text/plain": [
       "(0, 200)"
      ]
     },
     "execution_count": 35,
     "metadata": {},
     "output_type": "execute_result"
    },
    {
     "data": {
      "image/png": "[encoded data removed]",
      "text/plain": [
       "<matplotlib.figure.Figure at 0x7f9d79474550>"
      ]
     },
     "metadata": {},
     "output_type": "display_data"
    }
   ],
   "source": [
    "plt.plot(filtered[\"Year Acquired\"], building_age, '.')\n",
    "plt.ylim(0, 200)"
   ]
  },
  {
   "cell_type": "code",
   "execution_count": 36,
   "metadata": {},
   "outputs": [
    {
     "data": {
      "text/plain": [
       "178"
      ]
     },
     "execution_count": 36,
     "metadata": {},
     "output_type": "execute_result"
    }
   ],
   "source": [
    "max(building_age)"
   ]
  },
  {
   "cell_type": "code",
   "execution_count": 37,
   "metadata": {
    "collapsed": true
   },
   "outputs": [],
   "source": [
    "filtered[\"Building Age\"] = building_age"
   ]
  },
  {
   "cell_type": "code",
   "execution_count": 38,
   "metadata": {
    "collapsed": true
   },
   "outputs": [],
   "source": [
    "purchased = filter_greater(filtered, \"Building Age\", 0)"
   ]
  },
  {
   "cell_type": "code",
   "execution_count": 39,
   "metadata": {},
   "outputs": [
    {
     "data": {
      "text/plain": [
       "{'Building Age': array([  2,  19,  10,  98,  94, 104,   6,   1,   1, 115, 115, 104,  17,\n",
       "         52,  17,  27,  28,  21,  17,   7,  17,  18,  14,  14,  24,  10,\n",
       "         17,  16,  12,  26,  14,  26,  26,  21,  21,  11,  20, 130, 145,\n",
       "         20,  23,  21,  58,  25,  14,  15,   9,  17,  17,  17,  17,   4,\n",
       "         26,  18,  87,  27,  27,  27, 158, 141,  70,  77,  14,   1,   1,\n",
       "          1,   1,   1,   1,   1,   1,   1,   1,   6, 159,  61,  61,   1,\n",
       "          5, 163,   1,  41,  25,  32, 122, 124,  43,  13,   3,   1,  23,\n",
       "         13,  61,  33,  58,  53,  57,  29,  59,  51,  43,  53,  73,  57,\n",
       "         73,  25,  18,  25,  25,  41,  41,  90,  50,  18,  18,  18,  18,\n",
       "          9,  39,  39,  39,  64,  64,  39,   1,  70,   3,   6,  12,  17,\n",
       "         31,  61,   2,  41,  10,   5,  93,   1,  15,  11,   3,  57,  57,\n",
       "          1,  12,  13,  38,   8,   8,   8,   1,   2, 115,   4,  35,  14,\n",
       "         24,  24,  29,  87,   1,  42,  59,  55,  91,  35,  35,  46,  45,\n",
       "         37,  17,  30,   8,   8,   8,   2,  49,   7,   3,   1,   5,   2,\n",
       "          3, 100,  18,  43,  31,   1,   4,   4,  11,   5, 100,  39,   1,\n",
       "         99,  78, 124, 126, 138, 124, 124,  53,  56,  20,  20,   5, 114,\n",
       "         15,  12,   8,  12,  52, 122,   2,  50,   8,  16,  60,   8,  24,\n",
       "          1,  38,   5,   1,   1,   1,   1,   1,   1,   1,   1,   1,   1,\n",
       "          1,   1,   1,   1,   1,   1,   1,   1,   1,   1,   1,   1,   1,\n",
       "          1,   1,   1,   1,   1,   1,   1,   1,   1,   1,   1,   1,   1,\n",
       "          1,   1,   1,   1,   1,   1,   1,   1,   1,   1,   1,   1,   1,\n",
       "          1,   1,   1,   1,   1,   1,   1,   1,   1,   1,   1,   1,   1,\n",
       "          1,   1,   1,   1,   4,   2,  37,  67,  34,  36,  55,   6,   9,\n",
       "         25,  14,  14,   4,  11,   2,   1,   1,   1,   1,   1,   1,   6,\n",
       "          2,   8,   2,   2,   3,   4,  19,   2,  12,   1,   3,   1,   1,\n",
       "          1,   1,   1,   1,   1,   1,   1,   1,   1,   1,   1,   1,   1,\n",
       "          1,   1,   1,   1,   1,   1,   1,   1,   1,   1,   1,   1,   1,\n",
       "          1,   1,   1,   1,   1,   1,   1,   1,   1,   1,   1,   1,   1,\n",
       "          1,   1,   1,   1,   1,   1,   1,   1,   1,   1,   1,   1,   1,\n",
       "          1,   3,   1,  24,  18,   1,   1,   1,   1,   1,   1,   1,   1,\n",
       "          1,   1,   1,   1,   1,   1,   1,   1,   1,   1,   1,   1,   1,\n",
       "          1,   1,   1,   1,   1,   1,   1,   1,   1,   1,   1,   1,   1,\n",
       "          1,   1,   1,   1,   1,   1,   1,   1,   1,   1,   1,   1,   1,\n",
       "          1,   1,  65,  65,  65,  22,   2,   2,   1,   1,   2,   1,   3,\n",
       "          1, 103, 103, 104,  31,   6,  10,   6,   2,  38,  41,   1,   1,\n",
       "          1,  17,  20,  15,  17,  17,  17,  17,  12,  12,  12,  12,  12,\n",
       "         12,  12,  12,  12,  12,  17,  17,  17,  17,  14,  12,  17,  17,\n",
       "         16,   5,  17,  17,  10,  14,  17,   2,   1,  32,  32,   5,  19,\n",
       "         38,  38,  44,   1,  20,  39,   2,   2,   2,   1,   2,   2,   2,\n",
       "          2,   2,   2,   2,   2,   2,   2,   2,   2,   2,   2,   2,   2,\n",
       "          2,   2,   2,   3,   3,   5,   2,   2,   2,   2,   2,   2,   2,\n",
       "          2,   2,   2,   2,   2,   2,   2,   2,   2,   2,   2,   2,   2,\n",
       "          2,   2,   2,   2,   2,   2,   2,   2,   2,   2,   2,   2,   2,\n",
       "         43,   1,   2,   2,   2,   2,   2,   1,   2,   3,   3,   3,   3,\n",
       "          3,   3,   3,   3,   3,   3,   3,   3,   3,   3,   1,   1,   1,\n",
       "          1,   1,   2,   2,   1,   1,  11,  14,   5,   1,   1,  37,  37,\n",
       "          3,   1,   2,   2,  17,  30,   1,   1,   1,  20,   3,  25,   2,\n",
       "          1,   3,  46,   1,   1,   1,   1,   1,   1,   1,   1,   1,   1,\n",
       "          8,   8,   8,   8,   8,   8,   8,   8,  10,  10,  10,  19,  17,\n",
       "         36,  15,   1,   2,   1,   2,  42,  13,   4,   1,   1,   1,   1,\n",
       "          1,   9,   3,   3,   1,   1,   1,  60, 178, 110, 109, 138, 110,\n",
       "        155,   2,  29,  29,  42,  23,   1,   1,  20,  20,  18,   4,   2,\n",
       "         45,  34,   2,   1,   4,   1,   1,   1,   1,   4,  10,   2,   3,\n",
       "         23,   8,   1,   1,  17,   4,   4,   2,   2,   1,   3,   2,   1,\n",
       "          6,   1,  12,   4,   5,   1,   1,   1,   7,   7,   8,   1,   2,\n",
       "          3,   1,   1,   1,   1,   1,   1,   1,   1,   2,   1,   2,  57,\n",
       "          7,   1,   3,   1,   1,   1,   1,   1,  58,   1,  38,  12,   1,\n",
       "         21,  27,   2,   1,   1,  34,   1,   1,   1,   2,   2,   1,   1,\n",
       "          2,   2,   2,   2,   2,   1,  17,   1,   1,   2,   2,   1,   2,\n",
       "         60,   1,   1, 111,  60,   2,   1,   1,   1,   1,   1,   1,  17,\n",
       "         10,   2,   3,   3,   2,   2,   1,   1,   9,   4,  14,  11,  14,\n",
       "         28,  25,  27,  23,  12,  32,  22,  13,  25,  26,   7,   7,   7,\n",
       "          7,  35,   9,   9,  59,  23,  30,  11,  11,  11,  11,  11,   1,\n",
       "         21,  36,  32,  32,  36,  36,  36,  36,  36,  36,  36,  36,  36,\n",
       "         36,  36,  36,   1,   1,  47,  20,   1,  35,   8,   1,   1,   2,\n",
       "          1,  16,  31,  31,  71,   4,   4,   4,   3,   1,   1,  25,  17,\n",
       "         21,   1,  70,   6,   1,   1,  60,  29,  50,  12,   1,   2,  45,\n",
       "         20,   1,   1,   2,   1,  22,  15,  57, 146, 135,  20,  46,   1,\n",
       "          4,  26,  57,   8,   8, 107,   2,  91,  30, 177,  42,  38,  30,\n",
       "         10,   9,   4,   4,   4,   8,   8,   8]),\n",
       " 'Square Footage': array([  1.10000000e+04,   1.62500000e+03,   8.25000000e+04,\n",
       "          1.53600000e+03,   3.52800000e+03,   1.50000000e+04,\n",
       "          1.56400000e+03,   1.20000000e+04,   1.85000000e+04,\n",
       "          6.60000000e+02,   1.92000000e+02,   3.75000000e+02,\n",
       "          1.50000000e+05,   2.20000000e+04,   1.33000000e+04,\n",
       "          1.76100000e+03,   2.15900000e+03,   3.08000000e+02,\n",
       "          9.22100000e+03,   6.66000000e+02,   3.03900000e+03,\n",
       "          5.00000000e+03,   5.68000000e+02,   7.77000000e+02,\n",
       "          2.41800000e+03,   8.91600000e+03,   1.80700000e+04,\n",
       "          4.30000000e+02,   5.16000000e+02,   2.60900000e+03,\n",
       "          1.36210000e+04,   1.40430000e+04,   1.66500000e+03,\n",
       "          4.46400000e+03,   3.98000000e+02,   8.99000000e+02,\n",
       "          1.56300000e+03,   5.84000000e+02,   7.02000000e+02,\n",
       "          3.18600000e+03,   2.76200000e+03,   2.23200000e+03,\n",
       "          2.58300000e+03,   6.25000000e+02,   2.01300000e+03,\n",
       "          6.78000000e+02,   8.27000000e+02,   3.07000000e+02,\n",
       "          3.00000000e+02,   3.00000000e+02,   3.00000000e+02,\n",
       "          5.97000000e+03,   4.79300000e+03,   8.20000000e+01,\n",
       "          4.47100000e+03,   6.50000000e+02,   3.22500000e+03,\n",
       "          4.70500000e+03,   4.58900000e+03,   6.04100000e+03,\n",
       "          7.84000000e+03,   0.00000000e+00,   4.90000000e+03,\n",
       "          7.20000000e+02,   1.20000000e+02,   1.44000000e+02,\n",
       "          1.50000000e+02,   1.50000000e+02,   1.50000000e+02,\n",
       "          1.20000000e+02,   1.20000000e+02,   1.00000000e+02,\n",
       "          4.32000000e+02,   1.20000000e+03,   6.61300000e+03,\n",
       "          2.10000000e+03,   1.76000000e+03,   2.00000000e+03,\n",
       "          3.07200000e+03,   3.00000000e+03,   2.40000000e+03,\n",
       "          2.47400000e+03,   1.73000000e+04,   9.96000000e+03,\n",
       "          8.00000000e+02,   1.04000000e+04,   2.40000000e+02,\n",
       "          2.30400000e+03,   7.20000000e+01,   3.84000000e+02,\n",
       "          1.56000000e+03,   2.52000000e+03,   2.12800000e+03,\n",
       "          3.15000000e+02,   2.56000000e+03,   1.15200000e+03,\n",
       "          1.08000000e+03,   2.68800000e+03,   1.05000000e+03,\n",
       "          7.70000000e+02,   3.15000000e+02,   2.60000000e+02,\n",
       "          2.40000000e+02,   2.80000000e+03,   1.50000000e+03,\n",
       "          1.26000000e+04,   1.30000000e+04,   1.30000000e+04,\n",
       "          1.72000000e+04,   8.00000000e+02,   2.00000000e+01,\n",
       "          3.00000000e+02,   6.00000000e+02,   9.40000000e+03,\n",
       "          5.50000000e+02,   2.17000000e+04,   1.68000000e+03,\n",
       "          1.30000000e+03,   5.64000000e+03,   2.26000000e+03,\n",
       "          2.55000000e+03,   1.31560000e+04,   5.78000000e+03,\n",
       "          1.20000000e+02,   3.00000000e+03,   8.22470000e+04,\n",
       "          2.35200000e+03,   3.68000000e+03,   4.80000000e+02,\n",
       "          3.82200000e+03,   3.00000000e+02,   1.40000000e+03,\n",
       "          2.10000000e+03,   1.76800000e+03,   9.72100000e+03,\n",
       "          1.80000000e+02,   3.00000000e+03,   1.10400000e+03,\n",
       "          3.15000000e+03,   2.65600000e+03,   3.00000000e+01,\n",
       "          2.60000000e+01,   2.80000000e+01,   3.60000000e+03,\n",
       "          2.40000000e+03,   2.80000000e+03,   4.40000000e+03,\n",
       "          2.04340000e+04,   8.00000000e+01,   2.04340000e+04,\n",
       "          2.70000000e+03,   6.50000000e+02,   2.88000000e+02,\n",
       "          1.04930000e+05,   9.93000000e+02,   4.70500000e+03,\n",
       "          2.85000000e+03,   3.33400000e+03,   1.67160000e+04,\n",
       "          9.58560000e+04,   4.85330000e+04,   2.02759000e+05,\n",
       "          8.58420000e+04,   7.57510000e+04,   6.55630000e+04,\n",
       "          5.08850000e+04,   2.65600000e+03,   1.26280000e+04,\n",
       "          1.62400000e+03,   1.42500000e+03,   4.80000000e+02,\n",
       "          8.32000000e+03,   2.29800000e+04,   2.29800000e+04,\n",
       "          2.30400000e+04,   3.60000000e+04,   2.30000000e+03,\n",
       "          6.72000000e+02,   7.56000000e+03,   3.61000000e+02,\n",
       "          2.02800000e+03,   4.00000000e+02,   1.76700000e+03,\n",
       "          1.20000000e+03,   3.50000000e+03,   1.00000000e+03,\n",
       "          9.60000000e+02,   3.30000000e+04,   2.47500000e+03,\n",
       "          9.84000000e+02,   1.05000000e+03,   1.50000000e+02,\n",
       "          1.12000000e+03,   1.62000000e+02,   1.60000000e+02,\n",
       "          6.00000000e+02,   9.60000000e+02,   3.00000000e+02,\n",
       "          2.00000000e+02,   1.10000000e+03,   2.40000000e+02,\n",
       "          3.50000000e+02,   3.80000000e+01,   1.00000000e+03,\n",
       "          2.52600000e+03,   2.65200000e+03,   2.80000000e+01,\n",
       "          1.63500000e+03,   6.00000000e+02,   1.20000000e+03,\n",
       "          2.30400000e+04,   8.40000000e+01,   1.35000000e+03,\n",
       "          9.68000000e+02,   6.45000000e+02,   1.50000000e+03,\n",
       "          2.31000000e+04,   3.60000000e+02,   2.22000000e+03,\n",
       "          1.95000000e+03,   2.50000000e+01,   2.40000000e+03,\n",
       "          5.63700000e+03,   5.85680000e+04,   8.53000000e+03,\n",
       "          1.33200000e+04,   3.04000000e+03,   2.97000000e+03,\n",
       "          2.92000000e+03,   2.97000000e+03,   2.97000000e+03,\n",
       "          2.92000000e+03,   2.97000000e+03,   2.92000000e+03,\n",
       "          2.97000000e+03,   2.97000000e+03,   2.92000000e+03,\n",
       "          2.92000000e+03,   2.97000000e+03,   2.92000000e+03,\n",
       "          2.97000000e+03,   3.04000000e+03,   2.97000000e+03,\n",
       "          2.92000000e+03,   2.97000000e+03,   2.92000000e+03,\n",
       "          2.92000000e+03,   2.97000000e+03,   2.92000000e+03,\n",
       "          2.97000000e+03,   2.97000000e+03,   2.92000000e+03,\n",
       "          2.92000000e+03,   2.97000000e+03,   2.92000000e+03,\n",
       "          2.97000000e+03,   2.97000000e+03,   2.92000000e+03,\n",
       "          2.92000000e+03,   3.04000000e+03,   3.04000000e+03,\n",
       "          2.97000000e+03,   2.97000000e+03,   2.97000000e+03,\n",
       "          2.92000000e+03,   2.92000000e+03,   2.97000000e+03,\n",
       "          2.97000000e+03,   2.97000000e+03,   2.92000000e+03,\n",
       "          2.97000000e+03,   2.97000000e+03,   2.92000000e+03,\n",
       "          2.92000000e+03,   2.92000000e+03,   2.97000000e+03,\n",
       "          2.92000000e+03,   2.97000000e+03,   3.04000000e+03,\n",
       "          2.92000000e+03,   2.92000000e+03,   2.97000000e+03,\n",
       "          2.97000000e+03,   6.07000000e+03,   5.58000000e+03,\n",
       "          3.35500000e+03,   8.35000000e+03,   1.23810000e+04,\n",
       "          4.51000000e+03,   1.70000000e+03,   7.60160000e+04,\n",
       "          2.89340000e+04,   2.27790000e+04,   1.52100000e+04,\n",
       "          3.63200000e+03,   2.26800000e+03,   1.15000000e+04,\n",
       "          1.01600000e+03,   2.00000000e+02,   2.60000000e+03,\n",
       "          1.19910000e+04,   1.26150000e+04,   3.89000000e+04,\n",
       "          5.68000000e+03,   1.63240000e+04,   1.07780000e+04,\n",
       "          1.44000000e+02,   1.44000000e+02,   1.44000000e+02,\n",
       "          1.44000000e+02,   3.78600000e+04,   1.75350000e+04,\n",
       "          5.76000000e+02,   5.41180000e+04,   2.83330000e+04,\n",
       "          5.57160000e+04,   2.83330000e+04,   3.91430000e+04,\n",
       "          1.68800000e+04,   2.76870000e+04,   1.05250000e+04,\n",
       "          2.10320000e+04,   3.23525000e+05,   2.90900000e+03,\n",
       "          2.90900000e+03,   2.90900000e+03,   2.90900000e+03,\n",
       "          2.90900000e+03,   2.90900000e+03,   2.90900000e+03,\n",
       "          2.90900000e+03,   2.90900000e+03,   2.90900000e+03,\n",
       "          2.90900000e+03,   2.90900000e+03,   2.90900000e+03,\n",
       "          2.90900000e+03,   2.90900000e+03,   2.90900000e+03,\n",
       "          2.90900000e+03,   2.90900000e+03,   2.90900000e+03,\n",
       "          2.90900000e+03,   2.90900000e+03,   2.90900000e+03,\n",
       "          2.90900000e+03,   2.90900000e+03,   2.90900000e+03,\n",
       "          2.90900000e+03,   2.90900000e+03,   2.90900000e+03,\n",
       "          2.90900000e+03,   2.90900000e+03,   2.90900000e+03,\n",
       "          2.90900000e+03,   2.90900000e+03,   2.90900000e+03,\n",
       "          2.90900000e+03,   2.90900000e+03,   2.90900000e+03,\n",
       "          2.90900000e+03,   2.90900000e+03,   2.90900000e+03,\n",
       "          2.90900000e+03,   2.90900000e+03,   2.90900000e+03,\n",
       "          2.90900000e+03,   2.90900000e+03,   2.90900000e+03,\n",
       "          2.90900000e+03,   2.90900000e+03,   5.85640000e+04,\n",
       "          2.20520000e+04,   2.52400000e+03,   2.52400000e+03,\n",
       "          2.52400000e+03,   2.52400000e+03,   2.52400000e+03,\n",
       "          3.13650000e+04,   2.88770000e+04,   1.38000000e+03,\n",
       "          2.51050000e+04,   7.60900000e+03,   4.48000000e+02,\n",
       "          2.12600000e+04,   2.90000000e+03,   1.66080000e+04,\n",
       "          2.61000000e+04,   2.57140000e+04,   2.60000000e+03,\n",
       "          8.68000000e+02,   1.40000000e+03,   1.88460000e+04,\n",
       "          2.49000000e+03,   2.48370000e+04,   2.84380000e+04,\n",
       "          3.36770000e+04,   2.11420000e+04,   2.93750000e+04,\n",
       "          8.57500000e+03,   1.40000000e+03,   4.38000000e+03,\n",
       "          2.18360000e+04,   1.50000000e+04,   3.74620000e+04,\n",
       "          4.11160000e+04,   1.81500000e+04,   5.45240000e+04,\n",
       "          5.75690000e+04,   2.33440000e+04,   2.60000000e+03,\n",
       "          2.42400000e+03,   2.42400000e+03,   2.42400000e+03,\n",
       "          6.67100000e+03,   2.50840000e+04,   2.95000000e+03,\n",
       "          3.89880000e+04,   2.89930000e+04,   1.65440000e+04,\n",
       "          1.13000000e+04,   1.92000000e+04,   1.78800000e+04,\n",
       "          3.98910000e+04,   2.62000000e+04,   2.62000000e+04,\n",
       "          2.62000000e+04,   2.51000000e+03,   7.32000000e+04,\n",
       "          1.39090000e+04,   2.58000000e+04,   4.43330000e+04,\n",
       "          3.69220000e+04,   5.74300000e+03,   3.68770000e+04,\n",
       "          7.90000000e+03,   8.38800000e+03,   8.82800000e+03,\n",
       "          8.82800000e+03,   1.38450000e+04,   1.22000000e+04,\n",
       "          1.00000000e+04,   2.03000000e+03,   2.70900000e+04,\n",
       "          1.46080000e+04,   2.97500000e+03,   1.80220000e+04,\n",
       "          7.06000000e+03,   5.61780000e+04,   1.02000000e+03,\n",
       "          1.94300000e+03,   1.28440000e+04,   4.32000000e+02,\n",
       "          4.41000000e+02,   1.21600000e+03,   8.64000000e+02,\n",
       "          4.72500000e+03,   1.76000000e+03,   2.40000000e+04,\n",
       "          3.61500000e+03,   2.06400000e+03,   2.06400000e+03,\n",
       "          9.60000000e+01,   9.55000000e+02,   8.31000000e+02,\n",
       "          8.31000000e+02,   9.55000000e+02,   9.55000000e+02,\n",
       "          9.55000000e+02,   9.55000000e+02,   8.31000000e+02,\n",
       "          9.55000000e+02,   1.06000000e+04,   5.07200000e+03,\n",
       "          5.07200000e+03,   3.72600000e+03,   1.69000000e+03,\n",
       "          1.34700000e+03,   1.34400000e+03,   1.00000000e+03,\n",
       "          7.80000000e+03,   1.37200000e+03,   2.32000000e+03,\n",
       "          2.75000000e+03,   1.45300000e+03,   4.32000000e+02,\n",
       "          3.32500000e+03,   9.13000000e+02,   1.31960000e+04,\n",
       "          2.62300000e+04,   1.08040000e+04,   4.74700000e+03,\n",
       "          4.41320000e+04,   1.24730000e+04,   1.16000000e+02,\n",
       "          1.01236000e+05,   5.43400000e+03,   1.56000000e+04,\n",
       "          4.97000000e+02,   1.44000000e+02,   2.45000000e+03,\n",
       "          3.60000000e+01,   3.60000000e+01,   4.32000000e+02,\n",
       "          4.50000000e+02,   4.86900000e+04,   4.86900000e+04,\n",
       "          4.86900000e+04,   5.29450000e+04,   5.46830000e+04,\n",
       "          6.32500000e+04,   2.40000000e+02,   7.21600000e+03,\n",
       "          1.60000000e+03,   2.88000000e+02,   2.88000000e+02,\n",
       "          2.88000000e+02,   2.88000000e+02,   2.88000000e+02,\n",
       "          1.87000000e+04,   3.75300000e+04,   1.75680000e+04,\n",
       "          3.06000000e+03,   5.00000000e+01,   1.80000000e+02,\n",
       "          3.50000000e+02,   4.33000000e+04,   4.33000000e+04,\n",
       "          4.33000000e+04,   5.28180000e+04,   5.00000000e+04,\n",
       "          9.50440000e+04,   5.20000000e+03,   2.00000000e+03,\n",
       "          1.44000000e+02,   1.44000000e+02,   4.00000000e+02,\n",
       "          1.44000000e+02,   1.44000000e+02,   1.83600000e+03,\n",
       "          1.44000000e+02,   2.80000000e+03,   2.80000000e+03,\n",
       "          4.64650000e+04,   4.64650000e+04,   4.64650000e+04,\n",
       "          5.55000000e+04,   5.61960000e+04,   6.54500000e+04,\n",
       "          1.86250000e+04,   6.74700000e+03,   1.88900000e+03,\n",
       "          1.44000000e+02,   1.44000000e+02,   1.44000000e+02,\n",
       "          1.44000000e+02,   1.44000000e+02,   1.83600000e+03,\n",
       "          1.76660000e+04,   2.00300000e+03,   5.60000000e+02,\n",
       "          5.60000000e+02,   2.40000000e+02,   2.50000000e+03,\n",
       "          5.60000000e+02,   3.64000000e+02,   1.80000000e+02,\n",
       "          3.45600000e+03,   5.94190000e+04,   5.13690000e+04,\n",
       "          2.15000000e+02,   5.18800000e+03,   1.98940000e+04,\n",
       "          1.98940000e+04,   1.98940000e+04,   1.98940000e+04,\n",
       "          1.98940000e+04,   1.98940000e+04,   1.98940000e+04,\n",
       "          1.98940000e+04,   1.98940000e+04,   7.56300000e+03,\n",
       "          7.00000000e+03,   2.54000000e+02,   3.32000000e+05,\n",
       "          2.98360000e+04,   2.98360000e+04,   2.98360000e+04,\n",
       "          2.98360000e+04,   2.98360000e+04,   1.05600000e+04,\n",
       "          3.39200000e+03,   4.32000000e+03,   9.48000000e+03,\n",
       "          1.54800000e+04,   1.20000000e+04,   4.14000000e+03,\n",
       "          2.40000000e+03,   1.40000000e+03,   4.90000000e+03,\n",
       "          8.40000000e+03,   4.06900000e+03,   6.40000000e+03,\n",
       "          4.80000000e+01,   3.20000000e+03,   3.20000000e+03,\n",
       "          1.98400000e+03,   2.79670000e+04,   2.77091000e+05,\n",
       "          1.40980000e+04,   1.60000000e+04,   5.08000000e+02,\n",
       "          3.02400000e+03,   2.33700000e+03,   3.45600000e+03,\n",
       "          2.40000000e+03,   7.68000000e+03,   3.60000000e+03,\n",
       "          5.40000000e+03,   2.75000000e+03,   2.75000000e+03,\n",
       "          5.27800000e+03,   7.68000000e+03,   1.50000000e+03,\n",
       "          7.37600000e+03,   7.37600000e+03,   7.37600000e+03,\n",
       "          7.42600000e+03,   6.92600000e+03,   6.92600000e+03,\n",
       "          7.12600000e+03,   6.92600000e+03,   6.16500000e+03,\n",
       "          7.50000000e+03,   6.16500000e+03,   9.20000000e+02,\n",
       "          1.20000000e+02,   1.44000000e+02,   1.45000000e+02,\n",
       "          8.53120000e+04,   3.51000000e+02,   4.36390000e+04,\n",
       "          2.99772000e+05,   1.44400000e+05,   2.94300000e+03,\n",
       "          1.25000000e+04,   5.57500000e+04,   1.44000000e+03,\n",
       "          1.44000000e+03,   5.48000000e+02,   5.48000000e+02,\n",
       "          6.08000000e+02,   5.54000000e+02,   2.86000000e+02,\n",
       "          1.47200000e+03,   1.00000000e+02,   1.00000000e+02,\n",
       "          3.35060000e+04,   5.50000000e+03,   2.26062000e+05,\n",
       "          6.09380000e+04,   2.20000000e+03,   1.17000000e+04,\n",
       "          1.11300000e+03,   9.13236000e+05,   1.84000000e+05,\n",
       "          1.25000000e+04,   4.89840000e+04,   3.85930000e+04,\n",
       "          3.72430000e+04,   1.04220000e+05,   3.00000000e+04,\n",
       "          4.43865000e+05,   1.17200000e+05,   6.05000000e+04,\n",
       "          3.20460000e+04,   1.64000000e+04,   4.50000000e+03,\n",
       "          4.74180000e+04,   8.06000000e+03,   5.00000000e+03,\n",
       "          4.91850000e+04,   9.00000000e+02,   9.00000000e+02,\n",
       "          1.32800000e+05,   1.49400000e+05,   4.10000000e+04,\n",
       "          5.45400000e+04,   1.51240000e+04,   2.55000000e+05,\n",
       "          2.67260000e+04,   5.03600000e+03,   1.52620000e+04,\n",
       "          1.42281000e+05,   9.05000000e+03,   9.63620000e+04,\n",
       "          5.96000000e+05,   1.48780000e+05,   2.21110000e+04,\n",
       "          4.69500000e+04,   3.23600000e+04,   5.75500000e+03,\n",
       "          1.35671000e+05,   4.74930000e+04,   4.56550000e+04,\n",
       "          1.01207000e+05,   5.48260000e+04,   1.57850000e+04,\n",
       "          1.39850000e+04,   9.27880000e+04,   2.24000000e+03,\n",
       "          2.42000000e+03,   1.55000000e+03,   1.51257000e+05,\n",
       "          4.09420000e+04,   8.92000000e+02,   1.66190000e+04,\n",
       "          2.40000000e+03,   7.68400000e+03,   8.36000000e+03,\n",
       "          4.08700000e+03,   3.28000000e+03,   4.87800000e+03,\n",
       "          1.00580000e+04,   5.85300000e+03,   2.85600000e+03,\n",
       "          2.92940000e+04,   2.18450000e+04,   1.88000000e+03,\n",
       "          4.07800000e+03,   2.56000000e+03,   4.00000000e+03,\n",
       "          2.10100000e+03,   5.24800000e+03,   5.24800000e+03,\n",
       "          7.30600000e+03,   2.71180000e+04,   3.45600000e+03,\n",
       "          6.23800000e+03,   3.26400000e+04,   4.27000000e+03,\n",
       "          2.58516000e+05,   1.06450000e+04,   3.69100000e+03,\n",
       "          4.65700000e+04,   1.06400000e+04,   5.50000000e+03,\n",
       "          4.18000000e+02,   4.18000000e+02,   9.14820000e+04,\n",
       "          4.60546000e+05,   2.64105000e+05,   5.87560000e+04,\n",
       "          1.08499000e+05,   1.71170000e+04,   2.35450000e+04,\n",
       "          2.08270000e+04,   2.31200000e+04,   2.63985000e+05,\n",
       "          4.56722000e+05,   1.22827000e+05,   1.30210000e+04,\n",
       "          3.39830000e+04,   1.40281000e+05,   1.40554000e+05,\n",
       "          7.19200000e+03,   1.10800000e+03,   6.83430000e+04,\n",
       "          1.63999000e+05,   2.21950000e+04,   1.08400000e+04,\n",
       "          9.10400000e+03,   1.66221000e+05,   1.81094000e+05,\n",
       "          4.24400000e+03,   2.43593000e+05,   2.80139000e+05,\n",
       "          3.05870000e+04,   8.45720000e+04,   5.02000000e+04,\n",
       "          4.84000000e+02,   1.85880000e+05,   1.62267000e+05,\n",
       "          3.47981000e+05,   6.75690000e+04,   5.39840000e+04,\n",
       "          1.90400000e+04,   1.24946000e+05,   2.65210000e+04,\n",
       "          4.07330000e+04,   6.87200000e+03,   6.76300000e+03,\n",
       "          8.05600000e+03,   7.92400000e+03,   2.42300000e+03,\n",
       "          2.52500000e+03,   3.26000000e+03,   2.64000000e+03,\n",
       "          3.30700000e+03,   2.61800000e+03,   3.56400000e+03,\n",
       "          2.17200000e+03,   2.47700000e+04,   4.27100000e+03,\n",
       "          8.32700000e+03,   8.21700000e+03,   8.34900000e+03,\n",
       "          3.04500000e+03,   2.54040000e+04,   1.02960000e+04,\n",
       "          2.07600000e+03,   5.05900000e+03,   4.38200000e+03,\n",
       "          1.58400000e+03,   4.28900000e+03,   5.40700000e+03,\n",
       "          6.20000000e+03,   1.01120000e+04,   2.71900000e+03,\n",
       "          2.32860000e+04,   2.28500000e+03,   2.16900000e+03,\n",
       "          1.32820000e+04,   3.50700000e+03,   9.21200000e+03,\n",
       "          2.60890000e+04,   9.34400000e+03,   1.21970000e+04,\n",
       "          3.60500000e+03,   3.38200000e+03,   6.00800000e+03,\n",
       "          3.64500000e+03,   2.93600000e+03,   4.06100000e+03,\n",
       "          1.43700000e+03,   8.04000000e+02,   1.85458000e+05,\n",
       "          5.65800000e+04,   3.05100000e+03,   8.30700000e+04,\n",
       "          5.90800000e+03,   3.80400000e+03,   1.04165000e+05,\n",
       "          1.11721000e+05,   4.66000000e+04,   5.10160000e+04,\n",
       "          4.36800000e+03,   3.84000000e+03,   2.10800000e+03,\n",
       "          6.50700000e+04,   3.69540000e+04,   3.63740000e+04,\n",
       "          4.06640000e+04,   1.42172000e+05,   9.81500000e+04,\n",
       "          1.76000000e+04,   5.25660000e+04,   1.34980000e+04,\n",
       "          3.90000000e+03,   2.71700000e+03,   3.27080000e+04,\n",
       "          2.30720000e+04,   1.64939000e+05,   5.03430000e+04,\n",
       "          4.38000000e+03,   2.89500000e+03,   9.41000000e+02,\n",
       "          3.29200000e+03,   1.94994000e+05,   1.98672000e+05,\n",
       "          1.63410000e+04,   1.08240000e+04,   1.19735000e+05,\n",
       "          6.14000000e+03,   1.96120000e+04,   5.70380000e+04,\n",
       "          4.32000000e+02,   7.06000000e+02,   1.59600000e+03,\n",
       "          1.00000000e+03,   1.25700000e+03,   9.60000000e+04,\n",
       "          2.70300000e+03,   1.09320000e+05,   1.06930000e+05,\n",
       "          3.34200000e+03,   1.58400000e+03,   4.00000000e+02,\n",
       "          4.00000000e+02,   1.44000000e+02,   9.90680000e+04,\n",
       "          4.20000000e+04,   2.20000000e+03,   8.00000000e+02,\n",
       "          5.76000000e+02,   8.20000000e+02,   3.27600000e+03,\n",
       "          4.00000000e+02,   3.00000000e+03,   6.56000000e+02,\n",
       "          2.06000000e+02,   1.71000000e+02,   1.33870000e+04,\n",
       "          1.93030000e+04,   1.93030000e+04]),\n",
       " 'Year Acquired': array([1972, 1996, 2000, 1988, 1988, 2000, 1996, 2002, 2002, 1956, 1956,\n",
       "        1964, 2003, 1982, 2000, 2000, 2000, 2000, 2000, 2000, 2000, 2000,\n",
       "        2000, 2000, 2000, 2000, 2000, 2000, 2000, 2000, 2000, 2000, 2000,\n",
       "        2000, 2000, 2000, 2000, 2000, 2000, 2000, 2000, 2000, 2000, 2000,\n",
       "        2000, 2000, 2000, 2000, 2000, 2000, 2000, 2000, 2000, 2000, 2000,\n",
       "        2000, 2000, 2000, 2000, 2000, 2000, 1997, 1994, 1975, 1975, 1975,\n",
       "        1975, 1975, 1975, 1975, 1975, 1975, 2003, 1997, 2001, 2001, 2001,\n",
       "        1972, 2003, 2003, 2001, 2003, 2004, 2003, 1985, 1985, 1993, 1993,\n",
       "        2001, 1999, 1993, 1993, 1993, 1993, 1993, 1993, 1993, 1993, 1993,\n",
       "        1993, 1993, 1993, 1993, 1993, 1993, 2004, 2004, 2004, 2004, 1991,\n",
       "        1991, 1970, 1970, 2005, 2005, 2005, 2005, 2004, 2004, 2004, 2004,\n",
       "        2004, 2004, 2004, 2007, 1980, 1978, 1967, 1988, 1979, 1989, 1956,\n",
       "        1940, 1921, 1950, 1978, 1953, 1964, 1950, 1950, 1935, 1987, 1987,\n",
       "        1960, 1974, 1973, 1985, 2014, 1998, 2014, 1981, 1989, 2001, 1965,\n",
       "        1965, 1963, 1969, 1969, 1986, 1987, 1990, 2007, 2007, 2007, 2007,\n",
       "        2007, 2007, 1983, 1975, 1920, 1987, 1991, 2014, 2014, 2014, 1982,\n",
       "        1992, 1979, 1855, 1971, 1860, 1982, 1850, 1986, 1958, 1982, 1981,\n",
       "        1990, 1939, 1972, 1930, 1883, 1950, 1930, 1972, 1989, 1968, 1986,\n",
       "        1986, 1988, 1986, 1986, 1988, 1950, 1920, 1920, 1975, 1956, 1950,\n",
       "        1988, 2014, 1996, 1982, 1987, 1977, 1940, 2014, 1988, 1976, 1996,\n",
       "        1996, 1976, 1970, 1935, 1973, 1973, 1973, 1973, 1973, 1973, 1973,\n",
       "        1973, 1973, 1973, 1973, 1973, 1973, 1973, 1973, 1973, 1973, 1973,\n",
       "        1973, 1973, 1973, 1973, 1973, 1973, 1973, 1973, 1973, 1973, 1973,\n",
       "        1973, 1973, 1973, 1973, 1973, 1973, 1973, 1973, 1973, 1973, 1973,\n",
       "        1973, 1973, 1973, 1973, 1973, 1973, 1973, 1973, 1973, 1973, 1973,\n",
       "        1973, 1973, 1973, 1973, 1973, 1973, 1973, 1973, 1973, 1973, 1973,\n",
       "        1973, 1973, 1973, 1973, 1967, 1965, 1983, 1983, 1983, 1983, 1983,\n",
       "        1943, 1967, 1983, 1983, 1983, 1973, 1983, 1973, 1984, 1984, 1984,\n",
       "        1984, 1984, 1984, 1949, 1970, 1880, 1950, 1950, 1952, 1952, 1952,\n",
       "        1950, 1915, 1973, 1960, 1975, 1975, 1975, 1975, 1975, 1975, 1975,\n",
       "        1975, 1975, 1975, 1975, 1975, 1975, 1975, 1975, 1975, 1975, 1975,\n",
       "        1975, 1975, 1975, 1975, 1975, 1975, 1975, 1975, 1975, 1975, 1975,\n",
       "        1975, 1975, 1975, 1975, 1975, 1975, 1975, 1975, 1975, 1975, 1975,\n",
       "        1975, 1975, 1975, 1975, 1975, 1975, 1975, 1975, 1975, 1975, 1975,\n",
       "        1975, 1975, 1975, 1975, 1966, 1964, 1964, 1985, 1968, 1956, 1939,\n",
       "        1907, 1951, 1929, 1950, 1945, 1945, 1936, 1886, 1929, 1886, 1887,\n",
       "        1880, 1880, 1880, 1883, 1950, 1892, 1901, 1887, 1892, 1882, 1882,\n",
       "        1939, 1952, 1929, 1929, 1952, 1952, 1952, 1881, 1966, 1950, 1925,\n",
       "        1954, 1939, 1911, 1941, 1916, 1971, 1971, 1971, 1971, 1967, 1961,\n",
       "        1968, 1970, 1966, 1966, 1966, 1966, 1931, 1961, 1978, 1978, 1979,\n",
       "        1985, 1987, 1988, 2001, 2001, 2001, 1945, 1920, 1888, 1941, 1950,\n",
       "        1970, 1977, 1980, 1981, 1991, 1967, 1996, 1990, 1968, 1968, 1968,\n",
       "        1968, 1968, 1968, 1968, 1968, 1968, 1968, 1968, 1968, 1968, 1968,\n",
       "        1968, 1968, 1968, 1968, 1968, 1968, 1968, 1968, 1968, 1968, 1968,\n",
       "        1968, 1968, 1968, 1968, 1958, 1989, 1963, 1963, 1915, 1934, 1974,\n",
       "        1989, 1995, 1995, 1980, 1979, 1981, 1981, 1981, 1981, 1999, 1985,\n",
       "        1985, 1985, 1985, 1985, 1985, 1985, 1985, 1985, 1985, 1985, 1985,\n",
       "        1985, 1985, 1985, 1985, 1985, 1985, 1986, 1986, 1988, 1989, 1989,\n",
       "        1989, 1989, 1989, 1989, 1989, 1989, 1989, 1989, 1989, 1989, 1989,\n",
       "        1989, 1989, 1989, 1989, 1989, 1989, 1989, 1989, 1989, 1989, 1989,\n",
       "        1989, 1989, 1989, 1989, 1989, 1989, 1989, 1989, 1989, 1994, 1989,\n",
       "        1989, 1989, 1989, 1989, 1989, 1986, 1988, 1998, 1998, 1998, 1998,\n",
       "        1998, 1998, 1998, 1998, 1998, 1998, 1998, 1998, 1998, 1998, 1986,\n",
       "        1987, 1977, 1988, 1988, 1989, 1989, 1989, 1987, 1994, 1955, 1955,\n",
       "        1980, 1980, 1997, 1997, 1997, 1958, 1991, 1991, 1987, 1978, 1974,\n",
       "        1974, 1983, 1970, 1968, 1964, 1980, 1972, 1997, 1996, 1959, 1959,\n",
       "        1968, 1968, 1978, 1986, 1986, 1988, 1951, 2004, 1948, 1948, 1948,\n",
       "        1948, 1948, 1948, 1948, 1948, 1905, 1905, 1905, 1959, 1953, 1972,\n",
       "        1951, 1968, 1949, 1951, 1931, 1990, 1971, 1954, 1995, 1991, 1991,\n",
       "        1989, 1989, 1989, 1989, 1989, 1999, 1995, 1995, 1989, 1990, 1990,\n",
       "        1990, 1991, 1964, 1992, 1984, 1969, 1969, 1987, 1989, 1970, 1989,\n",
       "        1993, 1989, 2005, 1972, 1948, 1967, 1985, 1954, 1988, 1944, 1947,\n",
       "        1948, 1948, 1938, 1982, 1994, 1908, 1857, 1853, 1971, 1962, 1913,\n",
       "        1909, 1918, 1972, 1926, 1915, 1916, 1920, 1956, 1930, 1966, 1924,\n",
       "        1954, 1969, 1969, 1926, 1969, 1964, 1949, 1949, 1950, 1952, 1969,\n",
       "        1954, 1971, 1964, 1968, 1968, 1968, 1968, 1972, 1971, 1982, 1981,\n",
       "        1977, 1992, 1981, 1982, 1984, 1982, 1982, 1982, 1982, 1982, 1991,\n",
       "        1971, 1991, 1954, 1986, 1982, 1991, 1969, 1951, 1988, 1948, 1952,\n",
       "        1952, 1965, 1965, 1965, 1964, 1964, 1965, 1965, 1965, 1965, 1969,\n",
       "        1969, 1965, 1967, 1967, 1968, 1968, 1968, 1972, 1980, 1991, 1999,\n",
       "        1967, 1967, 1964, 1931, 1949, 1954, 1952, 1961, 1959, 1976, 1963,\n",
       "        1964, 1969, 1972, 1971, 1981, 1978, 1976, 1925, 1949, 1989, 1989,\n",
       "        1989, 1958, 1965, 1962, 1968, 1962, 1962, 1967, 1964, 1965, 1966,\n",
       "        1967, 1967, 1967, 1967, 1965, 1995, 1995, 1999, 1968, 1970, 2000,\n",
       "        2000, 2000, 2000, 2000, 1962, 1991, 1971, 1971, 1971, 1971, 1971,\n",
       "        1971, 1971, 1971, 1971, 1971, 1971, 1971, 1971, 1971, 1971, 1954,\n",
       "        1973, 1973, 1950, 1967, 1965, 1963, 1958, 1965, 1963, 1899, 1984,\n",
       "        1971, 1971, 1971, 1965, 1965, 1965, 1970, 1963, 1963, 1995, 1962,\n",
       "        1983, 1970, 1992, 1987, 1953, 1967, 1970, 1970, 1970, 1970, 1976,\n",
       "        1981, 1971, 1865, 1992, 1911, 1970, 1986, 1972, 1968, 1965, 1985,\n",
       "        1985, 2009, 2006, 2007, 1997, 2006, 1992, 1988, 1988, 1989, 2016,\n",
       "        2011, 2006, 1992, 2002, 1998, 2006, 1999, 1940, 2000, 2000, 2000,\n",
       "        2014, 2014, 2014]),\n",
       " 'Year Constructed': array([1970, 1977, 1990, 1890, 1894, 1896, 1990, 2001, 2001, 1841, 1841,\n",
       "        1860, 1986, 1930, 1983, 1973, 1972, 1979, 1983, 1993, 1983, 1982,\n",
       "        1986, 1986, 1976, 1990, 1983, 1984, 1988, 1974, 1986, 1974, 1974,\n",
       "        1979, 1979, 1989, 1980, 1870, 1855, 1980, 1977, 1979, 1942, 1975,\n",
       "        1986, 1985, 1991, 1983, 1983, 1983, 1983, 1996, 1974, 1982, 1913,\n",
       "        1973, 1973, 1973, 1842, 1859, 1930, 1920, 1980, 1974, 1974, 1974,\n",
       "        1974, 1974, 1974, 1974, 1974, 1974, 2002, 1991, 1842, 1940, 1940,\n",
       "        1971, 1998, 1840, 2000, 1962, 1979, 1971, 1863, 1861, 1950, 1980,\n",
       "        1998, 1998, 1970, 1980, 1932, 1960, 1935, 1940, 1936, 1964, 1934,\n",
       "        1942, 1950, 1940, 1920, 1936, 1920, 1979, 1986, 1979, 1979, 1950,\n",
       "        1950, 1880, 1920, 1987, 1987, 1987, 1987, 1995, 1965, 1965, 1965,\n",
       "        1940, 1940, 1965, 2006, 1910, 1975, 1961, 1976, 1962, 1958, 1895,\n",
       "        1938, 1880, 1940, 1973, 1860, 1963, 1935, 1939, 1932, 1930, 1930,\n",
       "        1959, 1962, 1960, 1947, 2006, 1990, 2006, 1980, 1987, 1886, 1961,\n",
       "        1930, 1949, 1945, 1945, 1957, 1900, 1989, 1965, 1948, 1952, 1916,\n",
       "        1972, 1972, 1937, 1930, 1883, 1970, 1961, 2006, 2006, 2006, 1980,\n",
       "        1943, 1972, 1852, 1970, 1855, 1980, 1847, 1886, 1940, 1939, 1950,\n",
       "        1989, 1935, 1968, 1919, 1878, 1850, 1891, 1971, 1890, 1890, 1862,\n",
       "        1860, 1850, 1862, 1862, 1935, 1894, 1900, 1900, 1970, 1842, 1935,\n",
       "        1976, 2006, 1984, 1930, 1865, 1975, 1890, 2006, 1972, 1916, 1988,\n",
       "        1972, 1975, 1932, 1930, 1972, 1972, 1972, 1972, 1972, 1972, 1972,\n",
       "        1972, 1972, 1972, 1972, 1972, 1972, 1972, 1972, 1972, 1972, 1972,\n",
       "        1972, 1972, 1972, 1972, 1972, 1972, 1972, 1972, 1972, 1972, 1972,\n",
       "        1972, 1972, 1972, 1972, 1972, 1972, 1972, 1972, 1972, 1972, 1972,\n",
       "        1972, 1972, 1972, 1972, 1972, 1972, 1972, 1972, 1972, 1972, 1972,\n",
       "        1972, 1972, 1972, 1972, 1972, 1972, 1972, 1972, 1972, 1972, 1972,\n",
       "        1972, 1972, 1972, 1972, 1963, 1963, 1946, 1916, 1949, 1947, 1928,\n",
       "        1937, 1958, 1958, 1969, 1969, 1969, 1972, 1971, 1983, 1983, 1983,\n",
       "        1983, 1983, 1983, 1943, 1968, 1872, 1948, 1948, 1949, 1948, 1933,\n",
       "        1948, 1903, 1972, 1957, 1974, 1974, 1974, 1974, 1974, 1974, 1974,\n",
       "        1974, 1974, 1974, 1974, 1974, 1974, 1974, 1974, 1974, 1974, 1974,\n",
       "        1974, 1974, 1974, 1974, 1974, 1974, 1974, 1974, 1974, 1974, 1974,\n",
       "        1974, 1974, 1974, 1974, 1974, 1974, 1974, 1974, 1974, 1974, 1974,\n",
       "        1974, 1974, 1974, 1974, 1974, 1974, 1974, 1974, 1974, 1974, 1974,\n",
       "        1974, 1974, 1974, 1974, 1963, 1963, 1940, 1967, 1967, 1955, 1938,\n",
       "        1906, 1950, 1928, 1949, 1944, 1944, 1935, 1885, 1928, 1885, 1886,\n",
       "        1879, 1879, 1879, 1882, 1949, 1891, 1900, 1886, 1891, 1881, 1881,\n",
       "        1938, 1951, 1928, 1928, 1951, 1951, 1951, 1880, 1965, 1949, 1924,\n",
       "        1953, 1938, 1910, 1940, 1915, 1970, 1970, 1970, 1970, 1966, 1960,\n",
       "        1967, 1969, 1901, 1901, 1901, 1944, 1929, 1959, 1977, 1977, 1977,\n",
       "        1984, 1984, 1987, 1898, 1898, 1897, 1914, 1914, 1878, 1935, 1948,\n",
       "        1932, 1936, 1979, 1980, 1990, 1950, 1976, 1975, 1951, 1951, 1951,\n",
       "        1951, 1956, 1956, 1956, 1956, 1956, 1956, 1956, 1956, 1956, 1956,\n",
       "        1951, 1951, 1951, 1951, 1954, 1956, 1951, 1951, 1952, 1963, 1951,\n",
       "        1951, 1958, 1954, 1951, 1956, 1988, 1931, 1931, 1910, 1915, 1936,\n",
       "        1951, 1951, 1994, 1960, 1940, 1979, 1979, 1979, 1980, 1997, 1983,\n",
       "        1983, 1983, 1983, 1983, 1983, 1983, 1983, 1983, 1983, 1983, 1983,\n",
       "        1983, 1983, 1983, 1983, 1983, 1983, 1983, 1983, 1983, 1987, 1987,\n",
       "        1987, 1987, 1987, 1987, 1987, 1987, 1987, 1987, 1987, 1987, 1987,\n",
       "        1987, 1987, 1987, 1987, 1987, 1987, 1987, 1987, 1987, 1987, 1987,\n",
       "        1987, 1987, 1987, 1987, 1987, 1987, 1987, 1987, 1987, 1951, 1988,\n",
       "        1987, 1987, 1987, 1987, 1987, 1985, 1986, 1995, 1995, 1995, 1995,\n",
       "        1995, 1995, 1995, 1995, 1995, 1995, 1995, 1995, 1995, 1995, 1985,\n",
       "        1986, 1976, 1987, 1987, 1987, 1987, 1988, 1986, 1983, 1941, 1950,\n",
       "        1979, 1979, 1960, 1960, 1994, 1957, 1989, 1989, 1970, 1948, 1973,\n",
       "        1973, 1982, 1950, 1965, 1939, 1978, 1971, 1994, 1950, 1958, 1958,\n",
       "        1967, 1967, 1977, 1985, 1985, 1987, 1950, 2003, 1940, 1940, 1940,\n",
       "        1940, 1940, 1940, 1940, 1940, 1895, 1895, 1895, 1940, 1936, 1936,\n",
       "        1936, 1967, 1947, 1950, 1929, 1948, 1958, 1950, 1994, 1990, 1990,\n",
       "        1988, 1988, 1980, 1986, 1986, 1998, 1994, 1994, 1929, 1812, 1880,\n",
       "        1881, 1853, 1854, 1837, 1982, 1940, 1940, 1945, 1966, 1969, 1988,\n",
       "        1973, 1969, 1987, 1968, 1946, 1922, 1951, 1952, 1987, 1940, 1946,\n",
       "        1947, 1947, 1937, 1978, 1984, 1906, 1854, 1830, 1963, 1961, 1912,\n",
       "        1892, 1914, 1968, 1924, 1913, 1915, 1917, 1954, 1929, 1960, 1923,\n",
       "        1942, 1965, 1964, 1925, 1968, 1963, 1942, 1942, 1942, 1951, 1967,\n",
       "        1951, 1970, 1963, 1967, 1967, 1967, 1967, 1971, 1970, 1980, 1980,\n",
       "        1975, 1935, 1974, 1981, 1981, 1981, 1981, 1981, 1981, 1981, 1933,\n",
       "        1970, 1953, 1942, 1985, 1961, 1964, 1967, 1950, 1987, 1914, 1951,\n",
       "        1951, 1964, 1963, 1963, 1963, 1963, 1963, 1963, 1963, 1963, 1967,\n",
       "        1968, 1948, 1966, 1966, 1966, 1966, 1967, 1970, 1920, 1990, 1998,\n",
       "        1856, 1907, 1962, 1930, 1948, 1953, 1951, 1960, 1958, 1959, 1953,\n",
       "        1962, 1966, 1969, 1969, 1979, 1977, 1975, 1916, 1945, 1975, 1978,\n",
       "        1975, 1930, 1940, 1935, 1945, 1950, 1930, 1945, 1951, 1940, 1940,\n",
       "        1960, 1960, 1960, 1960, 1930, 1986, 1986, 1940, 1945, 1940, 1989,\n",
       "        1989, 1989, 1989, 1989, 1961, 1970, 1935, 1939, 1939, 1935, 1935,\n",
       "        1935, 1935, 1935, 1935, 1935, 1935, 1935, 1935, 1935, 1935, 1953,\n",
       "        1972, 1926, 1930, 1966, 1930, 1955, 1957, 1964, 1961, 1898, 1968,\n",
       "        1940, 1940, 1900, 1961, 1961, 1961, 1967, 1962, 1962, 1970, 1945,\n",
       "        1962, 1969, 1922, 1981, 1952, 1966, 1910, 1941, 1920, 1958, 1975,\n",
       "        1979, 1926, 1845, 1991, 1910, 1968, 1985, 1950, 1953, 1908, 1839,\n",
       "        1850, 1989, 1960, 2006, 1993, 1980, 1935, 1980, 1980, 1882, 2014,\n",
       "        1920, 1976, 1815, 1960, 1960, 1976, 1989, 1931, 1996, 1996, 1996,\n",
       "        2006, 2006, 2006])}"
      ]
     },
     "execution_count": 39,
     "metadata": {},
     "output_type": "execute_result"
    }
   ],
   "source": [
    "purchased"
   ]
  },
  {
   "cell_type": "code",
   "execution_count": 41,
   "metadata": {},
   "outputs": [
    {
     "data": {
      "text/plain": [
       "1"
      ]
     },
     "execution_count": 41,
     "metadata": {},
     "output_type": "execute_result"
    }
   ],
   "source": [
    "purchased['Building Age'].min()"
   ]
  },
  {
   "cell_type": "code",
   "execution_count": 42,
   "metadata": {},
   "outputs": [
    {
     "data": {
      "text/plain": [
       "178"
      ]
     },
     "execution_count": 42,
     "metadata": {},
     "output_type": "execute_result"
    }
   ],
   "source": [
    "purchased['Building Age'].max()"
   ]
  },
  {
   "cell_type": "code",
   "execution_count": 44,
   "metadata": {},
   "outputs": [
    {
     "data": {
      "text/plain": [
       "(array([ 555.,  116.,   62.,   57.,   22.,   57.,   36.]),\n",
       " array([  0,  10,  20,  30,  40,  50, 100, 180]),\n",
       " <a list of 7 Patch objects>)"
      ]
     },
     "execution_count": 44,
     "metadata": {},
     "output_type": "execute_result"
    },
    {
     "data": {
      "image/png": "[encoded data removed]",
      "text/plain": [
       "<matplotlib.figure.Figure at 0x7f9d81f35710>"
      ]
     },
     "metadata": {},
     "output_type": "display_data"
    }
   ],
   "source": [
    "plt.hist(purchased[\"Building Age\"], bins=[0, 10, 20,30,40,50,100, 180])"
   ]
  },
  {
   "cell_type": "code",
   "execution_count": 45,
   "metadata": {},
   "outputs": [
    {
     "data": {
      "text/plain": [
       "(array([ 667.,  106.,   48.,   35.,    6.,   15.,   14.,    6.,    5.,    3.]),\n",
       " array([   1. ,   18.7,   36.4,   54.1,   71.8,   89.5,  107.2,  124.9,\n",
       "         142.6,  160.3,  178. ]),\n",
       " <a list of 10 Patch objects>)"
      ]
     },
     "execution_count": 45,
     "metadata": {},
     "output_type": "execute_result"
    },
    {
     "data": {
      "image/png": "[encoded data removed]",
      "text/plain": [
       "<matplotlib.figure.Figure at 0x7f9d81f48048>"
      ]
     },
     "metadata": {},
     "output_type": "display_data"
    }
   ],
   "source": [
    "plt.hist(purchased[\"Building Age\"], log=True)"
   ]
  },
  {
   "cell_type": "code",
   "execution_count": 50,
   "metadata": {},
   "outputs": [
    {
     "data": {
      "text/plain": [
       "(array([ 667.,  106.,   48.,   35.,    6.,   15.,   14.,    6.,    5.,    3.]),\n",
       " array([   1. ,   18.7,   36.4,   54.1,   71.8,   89.5,  107.2,  124.9,\n",
       "         142.6,  160.3,  178. ]),\n",
       " <a list of 10 Patch objects>)"
      ]
     },
     "execution_count": 50,
     "metadata": {},
     "output_type": "execute_result"
    },
    {
     "data": {
      "image/png": "[encoded data removed]",
      "text/plain": [
       "<matplotlib.figure.Figure at 0x7f9d79413470>"
      ]
     },
     "metadata": {},
     "output_type": "display_data"
    }
   ],
   "source": [
    "plt.hist(purchased[\"Building Age\"], label='X vs Y', log=True)"
   ]
  },
  {
   "cell_type": "code",
   "execution_count": 59,
   "metadata": {},
   "outputs": [
    {
     "data": {
      "text/plain": [
       "<matplotlib.colorbar.Colorbar at 0x7f9d7924ed30>"
      ]
     },
     "execution_count": 59,
     "metadata": {},
     "output_type": "execute_result"
    },
    {
     "data": {
      "image/png": "[encoded data removed]",
      "text/plain": [
       "<matplotlib.figure.Figure at 0x7f9d7925a2e8>"
      ]
     },
     "metadata": {},
     "output_type": "display_data"
    }
   ],
   "source": [
    "plt.hexbin(filtered[\"Year Acquired\"], building_age, gridsize=32, bins = 'log')\n",
    "plt.colorbar()"
   ]
  },
  {
   "cell_type": "code",
   "execution_count": 58,
   "metadata": {
    "collapsed": true
   },
   "outputs": [],
   "source": [
    "def make_plot(gridsize, cmap, style):\n",
    "    with plt.style.context(style):\n",
    "        plt.hexbin(filtered[\"Year Acquired\"], building_age,\n",
    "                   gridsize=gridsize, bins = 'log',\n",
    "                   cmap = cmap)\n",
    "        plt.colorbar()"
   ]
  },
  {
   "cell_type": "code",
   "execution_count": 60,
   "metadata": {
    "collapsed": true
   },
   "outputs": [],
   "source": [
    "years = [2012, 2013, 2014, 2015, 2016]\n",
    "complaints = [3750, 3450, 2975, 2750, 2760]"
   ]
  },
  {
   "cell_type": "code",
   "execution_count": 61,
   "metadata": {
    "collapsed": true
   },
   "outputs": [],
   "source": [
    "import ipywidgets"
   ]
  },
  {
   "cell_type": "code",
   "execution_count": 66,
   "metadata": {},
   "outputs": [
    {
     "data": {
      "image/png": "[encoded data removed]",
      "text/plain": [
       "<matplotlib.figure.Figure at 0x7f9d780b0898>"
      ]
     },
     "metadata": {},
     "output_type": "display_data"
    },
    {
     "data": {
      "text/plain": [
       "<function __main__.make_plot>"
      ]
     },
     "execution_count": 66,
     "metadata": {},
     "output_type": "execute_result"
    }
   ],
   "source": [
    "    ipywidgets.interact(make_plot, gridsize = (16, 128, 1),\n",
    "                   cmap = [\"viridis\", \"inferno\", \"magma\", \"flag\", \"jet\"],\n",
    "                   style = [\"fivethirtyeight\", \"default\", \"ggplot\", \"seaborn\"])"
   ]
  },
  {
   "cell_type": "code",
   "execution_count": 65,
   "metadata": {},
   "outputs": [
    {
     "data": {
      "text/plain": [
       "<matplotlib.text.Text at 0x7f9d797a2470>"
      ]
     },
     "execution_count": 65,
     "metadata": {},
     "output_type": "execute_result"
    },
    {
     "data": {
      "image/png": "[encoded data removed]",
      "text/plain": [
       "<matplotlib.figure.Figure at 0x7f9d78fcc860>"
      ]
     },
     "metadata": {},
     "output_type": "display_data"
    }
   ],
   "source": [
    "plt.plot(years, complaints, '.-')\n",
    "plt.xticks( [2012, 2013, 2014, 2015, 2016],\n",
    "            ['2012', '2013', 'Primary', '2015', '2016'])\n",
    "plt.yticks( [2500, 3000, 3500, 4000])\n",
    "plt.minorticks_on()\n",
    "plt.xlabel(\"Year\")\n",
    "plt.ylabel(\"Number of Complaints\")"
   ]
  },
  {
   "cell_type": "code",
   "execution_count": 67,
   "metadata": {
    "collapsed": true
   },
   "outputs": [],
   "source": [
    "def f(x):\n",
    "    return x"
   ]
  },
  {
   "cell_type": "code",
   "execution_count": 68,
   "metadata": {},
   "outputs": [
    {
     "ename": "NameError",
     "evalue": "name 'interact' is not defined",
     "output_type": "error",
     "traceback": [
      "\u001b[0;31m---------------------------------------------------------------------------\u001b[0m",
      "\u001b[0;31mNameError\u001b[0m                                 Traceback (most recent call last)",
      "\u001b[0;32m<ipython-input-68-244de5a758ba>\u001b[0m in \u001b[0;36m<module>\u001b[0;34m()\u001b[0m\n\u001b[0;32m----> 1\u001b[0;31m \u001b[0minteract\u001b[0m\u001b[0;34m(\u001b[0m\u001b[0mf\u001b[0m\u001b[0;34m,\u001b[0m \u001b[0mx\u001b[0m\u001b[0;34m=\u001b[0m\u001b[0;36m10\u001b[0m\u001b[0;34m)\u001b[0m\u001b[0;34m;\u001b[0m\u001b[0;34m\u001b[0m\u001b[0m\n\u001b[0m",
      "\u001b[0;31mNameError\u001b[0m: name 'interact' is not defined"
     ]
    }
   ],
   "source": [
    "interact(f, x=10)"
   ]
  },
  {
   "cell_type": "code",
   "execution_count": 76,
   "metadata": {},
   "outputs": [
    {
     "ename": "SyntaxError",
     "evalue": "invalid syntax (<ipython-input-76-1e2f793aba0c>, line 1)",
     "output_type": "error",
     "traceback": [
      "\u001b[0;36m  File \u001b[0;32m\"<ipython-input-76-1e2f793aba0c>\"\u001b[0;36m, line \u001b[0;32m1\u001b[0m\n\u001b[0;31m    jupyter nbextension enable --py widgetsnbextension\u001b[0m\n\u001b[0m                      ^\u001b[0m\n\u001b[0;31mSyntaxError\u001b[0m\u001b[0;31m:\u001b[0m invalid syntax\n"
     ]
    }
   ],
   "source": [
    "jupyter nbextension enable --py widgetsnbextension\n",
    "import ipywidgets as widgets\n",
    "ipywidgets.interact(f,x=10)"
   ]
  },
  {
   "cell_type": "code",
   "execution_count": null,
   "metadata": {
    "collapsed": true
   },
   "outputs": [],
   "source": []
  }
 ],
 "metadata": {
  "kernelspec": {
   "display_name": "Python 3",
   "language": "python",
   "name": "python3"
  },
  "language_info": {
   "codemirror_mode": {
    "name": "ipython",
    "version": 3
   },
   "file_extension": ".py",
   "mimetype": "text/x-python",
   "name": "python",
   "nbconvert_exporter": "python",
   "pygments_lexer": "ipython3",
   "version": "3.6.1"
  }
 },
 "nbformat": 4,
 "nbformat_minor": 2
}

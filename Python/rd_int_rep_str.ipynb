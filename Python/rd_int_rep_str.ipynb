{
 "cells": [
  {
   "cell_type": "markdown",
   "metadata": {},
   "source": [
    "Read an integer .\n",
    "\n",
    "Without using any string methods, try to print the following:\n",
    "\n",
    "\n",
    "Note that \"\" represents the values in between.\n",
    "\n",
    "Input Format \n",
    "The first line contains an integer .\n",
    "\n",
    "Output Format \n",
    "Output the answer as explained in the task.\n",
    "\n",
    "Sample Input\n",
    "\n",
    "3\n",
    "Sample Output\n",
    "\n",
    "123"
   ]
  },
  {
   "cell_type": "code",
   "execution_count": null,
   "metadata": {},
   "outputs": [],
   "source": [
    "if __name__ == '__main__':\n",
    "    n = int(input())\n",
    "a=''\n",
    "for i in range(0,n):\n",
    "    a=a + str(i+1)\n",
    "print(a)"
   ]
  },
  {
   "cell_type": "code",
   "execution_count": null,
   "metadata": {
    "collapsed": true
   },
   "outputs": [],
   "source": [
    "s1='hello world'"
   ]
  },
  {
   "cell_type": "code",
   "execution_count": null,
   "metadata": {},
   "outputs": [],
   "source": [
    "arr = s1.split(' ')\n",
    "for i in range(0,len(arr)):\n",
    "    arr[i] = arr[i].capitalize()"
   ]
  },
  {
   "cell_type": "code",
   "execution_count": null,
   "metadata": {},
   "outputs": [],
   "source": [
    "' '.join(arr)"
   ]
  },
  {
   "cell_type": "code",
   "execution_count": null,
   "metadata": {},
   "outputs": [],
   "source": [
    "def toTree(expression):\n",
    "    tree = dict()\n",
    "    msg =\"\"\n",
    "    stack = list()\n",
    "    for char in expression:\n",
    "        if(char == '('):\n",
    "            stack.append(msg)\n",
    "            msg = \"\"\n",
    "        elif char == ')':\n",
    "            parent = stack.pop()\n",
    "            if parent not in tree:\n",
    "                tree[parent] = list()\n",
    "            tree[parent].append(msg)\n",
    "            msg = parent\n",
    "        else:\n",
    "            msg += char\n",
    "    return tree\n"
   ]
  },
  {
   "cell_type": "code",
   "execution_count": null,
   "metadata": {},
   "outputs": [],
   "source": [
    "expression = \"(Root(AB(ABC)(CBA))(CD(CDE)(FGH))(EF(EFG)(FGH)))\"\n",
    "print (toTree(expression))"
   ]
  },
  {
   "cell_type": "code",
   "execution_count": null,
   "metadata": {},
   "outputs": [],
   "source": [
    "import re\n",
    "s=\"<td background=\"\"./files/buttonbg.gif\"\"><a href=\"\"http://www.example.com/global_data.zip\"\" onmouseover=\"\"setOverImg(&#39;11&#39;,&#39;&#39;);\"\n",
    "s1=\"&nbsp;<a href=\"\"http://www.example.com/files/world_data1.zip\"\"><b>World Data Part 1</b></a> <br/> <a href=\"\"http://www.example.com/files/world_data2.zip\"\"><b>World Data Part 2</b></a>\"\n",
    "urls = re.findall(r'href=[\\'\"]?([^\\'\" ]+)', s1)\n",
    "#print ', '.join(urls)"
   ]
  },
  {
   "cell_type": "code",
   "execution_count": null,
   "metadata": {},
   "outputs": [],
   "source": [
    "\n",
    "print(urls)\n",
    "len(urls)"
   ]
  },
  {
   "cell_type": "code",
   "execution_count": null,
   "metadata": {},
   "outputs": [],
   "source": [
    "filenames=[]\n",
    "for i in range(0,len(urls)):\n",
    "    file = str(urls[i]).split('/')\n",
    "    file=file.pop()\n",
    "    file=file[:file.find('.zip')+4]\n",
    "    filenames[i] = file"
   ]
  },
  {
   "cell_type": "code",
   "execution_count": null,
   "metadata": {},
   "outputs": [],
   "source": [
    "filenames"
   ]
  },
  {
   "cell_type": "code",
   "execution_count": null,
   "metadata": {
    "collapsed": true
   },
   "outputs": [],
   "source": [
    "b=file.pop()"
   ]
  },
  {
   "cell_type": "code",
   "execution_count": null,
   "metadata": {},
   "outputs": [],
   "source": [
    "b"
   ]
  },
  {
   "cell_type": "code",
   "execution_count": null,
   "metadata": {},
   "outputs": [],
   "source": [
    "b.find('.zip')"
   ]
  },
  {
   "cell_type": "code",
   "execution_count": null,
   "metadata": {},
   "outputs": [],
   "source": [
    "b[:b.find('.zip')+4]"
   ]
  },
  {
   "cell_type": "code",
   "execution_count": 11,
   "metadata": {},
   "outputs": [
    {
     "name": "stdout",
     "output_type": "stream",
     "text": [
      "IBM cognitive computing|IBM \"cognitive\" computing is a revolution| ibm cognitive  computing|'IBM Cognitive Computing' is a revolution?\n"
     ]
    }
   ],
   "source": [
    "corpus=input()\n",
    "a=len(corpus.strip().split('|'))\n"
   ]
  },
  {
   "cell_type": "code",
   "execution_count": 53,
   "metadata": {},
   "outputs": [],
   "source": [
    "documents = corpus.strip().split('|')\n",
    "v = {}\n",
    "for i in range(0,4):\n",
    "    x = x +  documents[i].split(' ')\n",
    "    v[i] = documents[i].split(' ')    "
   ]
  },
  {
   "cell_type": "code",
   "execution_count": 67,
   "metadata": {},
   "outputs": [
    {
     "data": {
      "text/plain": [
       "{'',\n",
       " '\"cognitive\"',\n",
       " \"'IBM\",\n",
       " 'Cognitive',\n",
       " \"Computing'\",\n",
       " 'IBM',\n",
       " 'a',\n",
       " 'cognitive',\n",
       " 'computing',\n",
       " 'ibm',\n",
       " 'is',\n",
       " 'revolution',\n",
       " 'revolution?'}"
      ]
     },
     "execution_count": 67,
     "metadata": {},
     "output_type": "execute_result"
    }
   ],
   "source": [
    "set(x)"
   ]
  },
  {
   "cell_type": "code",
   "execution_count": 79,
   "metadata": {},
   "outputs": [],
   "source": [
    "for i in range(0,a):\n",
    "    for j in range(len(v[i]),len(set(x))):\n",
    "        v[i].append(0)\n",
    "        \n"
   ]
  },
  {
   "cell_type": "code",
   "execution_count": 76,
   "metadata": {},
   "outputs": [
    {
     "data": {
      "text/plain": [
       "{0: ['IBM', 'cognitive', 'computing', 0, 0, 0, 0, 0, 0, 0, 0, 0, 0],\n",
       " 1: ['IBM',\n",
       "  '\"cognitive\"',\n",
       "  'computing',\n",
       "  'is',\n",
       "  'a',\n",
       "  'revolution',\n",
       "  0,\n",
       "  0,\n",
       "  0,\n",
       "  0,\n",
       "  0,\n",
       "  0,\n",
       "  0],\n",
       " 2: ['', 'ibm', 'cognitive', '', 'computing', 0, 0, 0, 0, 0, 0, 0, 0],\n",
       " 3: [\"'IBM\",\n",
       "  'Cognitive',\n",
       "  \"Computing'\",\n",
       "  'is',\n",
       "  'a',\n",
       "  'revolution?',\n",
       "  0,\n",
       "  0,\n",
       "  0,\n",
       "  0,\n",
       "  0,\n",
       "  0,\n",
       "  0]}"
      ]
     },
     "execution_count": 76,
     "metadata": {},
     "output_type": "execute_result"
    }
   ],
   "source": [
    "v"
   ]
  },
  {
   "cell_type": "code",
   "execution_count": 80,
   "metadata": {},
   "outputs": [
    {
     "ename": "TypeError",
     "evalue": "can't multiply sequence by non-int of type 'list'",
     "output_type": "error",
     "traceback": [
      "\u001b[0;31m---------------------------------------------------------------------------\u001b[0m",
      "\u001b[0;31mTypeError\u001b[0m                                 Traceback (most recent call last)",
      "\u001b[0;32m<ipython-input-80-dd01f3318905>\u001b[0m in \u001b[0;36m<module>\u001b[0;34m()\u001b[0m\n\u001b[0;32m----> 1\u001b[0;31m \u001b[0mv\u001b[0m\u001b[0;34m[\u001b[0m\u001b[0;36m0\u001b[0m\u001b[0;34m]\u001b[0m \u001b[0;34m*\u001b[0m \u001b[0mv\u001b[0m\u001b[0;34m[\u001b[0m\u001b[0;36m1\u001b[0m\u001b[0;34m]\u001b[0m\u001b[0;34m\u001b[0m\u001b[0m\n\u001b[0m",
      "\u001b[0;31mTypeError\u001b[0m: can't multiply sequence by non-int of type 'list'"
     ]
    }
   ],
   "source": [
    "v[0] * v[1]"
   ]
  },
  {
   "cell_type": "code",
   "execution_count": null,
   "metadata": {
    "collapsed": true
   },
   "outputs": [],
   "source": []
  }
 ],
 "metadata": {
  "kernelspec": {
   "display_name": "Python 3",
   "language": "python",
   "name": "python3"
  },
  "language_info": {
   "codemirror_mode": {
    "name": "ipython",
    "version": 3
   },
   "file_extension": ".py",
   "mimetype": "text/x-python",
   "name": "python",
   "nbconvert_exporter": "python",
   "pygments_lexer": "ipython3",
   "version": "3.6.1"
  }
 },
 "nbformat": 4,
 "nbformat_minor": 2
}
